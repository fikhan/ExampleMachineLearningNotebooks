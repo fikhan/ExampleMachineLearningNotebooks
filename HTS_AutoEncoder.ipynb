{
  "nbformat": 4,
  "nbformat_minor": 0,
  "metadata": {
    "colab": {
      "provenance": [],
      "authorship_tag": "ABX9TyO4EsyonA1+GwoOm0CSkN2X",
      "include_colab_link": true
    },
    "kernelspec": {
      "name": "python3",
      "display_name": "Python 3"
    },
    "language_info": {
      "name": "python"
    }
  },
  "cells": [
    {
      "cell_type": "markdown",
      "metadata": {
        "id": "view-in-github",
        "colab_type": "text"
      },
      "source": [
        "<a href=\"https://colab.research.google.com/github/fikhan/ExampleMachineLearningNotebooks/blob/master/HTS_AutoEncoder.ipynb\" target=\"_parent\"><img src=\"https://colab.research.google.com/assets/colab-badge.svg\" alt=\"Open In Colab\"/></a>"
      ]
    },
    {
      "cell_type": "code",
      "execution_count": 1,
      "metadata": {
        "id": "Vi8EH6j2-DJQ"
      },
      "outputs": [],
      "source": [
        "import tensorflow as tf\n",
        "from tensorflow.keras.datasets import mnist\n",
        "import numpy as np\n",
        "import matplotlib.pyplot as plt"
      ]
    },
    {
      "cell_type": "code",
      "source": [
        "# Loading the dataset without Target Variables\n",
        "(x_train, _), (x_test, _) = mnist.load_data()"
      ],
      "metadata": {
        "colab": {
          "base_uri": "https://localhost:8080/"
        },
        "id": "7PPEBVeA-H1V",
        "outputId": "39832bf4-5f31-4bba-9d2f-4b6c7d72e590"
      },
      "execution_count": 2,
      "outputs": [
        {
          "output_type": "stream",
          "name": "stdout",
          "text": [
            "Downloading data from https://storage.googleapis.com/tensorflow/tf-keras-datasets/mnist.npz\n",
            "11490434/11490434 [==============================] - 0s 0us/step\n"
          ]
        }
      ]
    },
    {
      "cell_type": "code",
      "source": [
        "# Display the Loaded dataset sample images\n",
        "\n",
        "\n",
        "n = 10  # how many digits we will display\n",
        "plt.figure(figsize=(20, 4))\n",
        "for i in range(n):\n",
        "    # display original\n",
        "    ax = plt.subplot(1, n, i + 1)\n",
        "    plt.imshow(x_test[i].reshape(28, 28))\n",
        "    plt.gray()\n",
        "    ax.get_xaxis().set_visible(False)\n",
        "    ax.get_yaxis().set_visible(False)\n",
        "plt.show()\n",
        "plt.close()"
      ],
      "metadata": {
        "colab": {
          "base_uri": "https://localhost:8080/",
          "height": 99
        },
        "id": "HQxvVpue-ME7",
        "outputId": "be37a984-6c9f-4b69-eeac-752865cfd9ad"
      },
      "execution_count": 3,
      "outputs": [
        {
          "output_type": "display_data",
          "data": {
            "text/plain": [
              "<Figure size 2000x400 with 10 Axes>"
            ],
            "image/png": "[encoded data removed]"
          },
          "metadata": {}
        }
      ]
    },
    {
      "cell_type": "code",
      "source": [
        "x_train = x_train.astype('float32') / 255.\n",
        "x_test = x_test.astype('float32') / 255.\n",
        "x_train = x_train.reshape((len(x_train), 28*28*1))\n",
        "x_test = x_test.reshape((len(x_test), 28*28*1))\n",
        "print (x_train.shape)\n",
        "print (x_test.shape)"
      ],
      "metadata": {
        "colab": {
          "base_uri": "https://localhost:8080/"
        },
        "id": "IjGc4cDL-P8s",
        "outputId": "aa9edd79-1177-4a26-87c8-749c10534775"
      },
      "execution_count": 4,
      "outputs": [
        {
          "output_type": "stream",
          "name": "stdout",
          "text": [
            "(60000, 784)\n",
            "(10000, 784)\n"
          ]
        }
      ]
    },
    {
      "cell_type": "code",
      "source": [
        "from tensorflow.keras.layers import Input, Dense\n",
        "from tensorflow.keras.models import Model"
      ],
      "metadata": {
        "id": "pesd0FiB-TTh"
      },
      "execution_count": 5,
      "outputs": []
    },
    {
      "cell_type": "code",
      "source": [
        "input_img = Input(shape=(784,))  #Input layer\n",
        "encoded = Dense(128, activation='relu')(input_img)\n",
        "encoded = Dense(64, activation='relu')(encoded)\n",
        "encoded = Dense(28, activation='relu')(encoded)\n",
        "\n",
        "encoded = Dense(20, activation='relu', name='bot')(encoded)\n",
        "\n",
        "decoded = Dense(28, activation='relu', name='botnext0')(encoded)\n",
        "decoded = Dense(64, activation='relu', name='botnext1')(decoded)\n",
        "decoded = Dense(128, activation='relu', name = 'botnext2')(decoded)\n",
        "decoded = Dense(784, activation='sigmoid', name=\"ae_out\")(decoded)\n",
        "\n",
        "Autoencoder = Model(inputs=input_img, outputs=decoded)\n",
        "Autoencoder.compile(optimizer=tf.keras.optimizers.SGD(0.09,clipvalue=2.5), loss='binary_crossentropy')#, metrics = [\"accuracy\"])\n",
        "Autoencoder.summary()"
      ],
      "metadata": {
        "colab": {
          "base_uri": "https://localhost:8080/"
        },
        "id": "HuEpFrGT-WcU",
        "outputId": "4da4fb99-fa33-437b-9357-02b33e51f7b7"
      },
      "execution_count": 6,
      "outputs": [
        {
          "output_type": "stream",
          "name": "stdout",
          "text": [
            "Model: \"model\"\n",
            "_________________________________________________________________\n",
            " Layer (type)                Output Shape              Param #   \n",
            "=================================================================\n",
            " input_1 (InputLayer)        [(None, 784)]             0         \n",
            "                                                                 \n",
            " dense (Dense)               (None, 128)               100480    \n",
            "                                                                 \n",
            " dense_1 (Dense)             (None, 64)                8256      \n",
            "                                                                 \n",
            " dense_2 (Dense)             (None, 28)                1820      \n",
            "                                                                 \n",
            " bot (Dense)                 (None, 20)                580       \n",
            "                                                                 \n",
            " botnext0 (Dense)            (None, 28)                588       \n",
            "                                                                 \n",
            " botnext1 (Dense)            (None, 64)                1856      \n",
            "                                                                 \n",
            " botnext2 (Dense)            (None, 128)               8320      \n",
            "                                                                 \n",
            " ae_out (Dense)              (None, 784)               101136    \n",
            "                                                                 \n",
            "=================================================================\n",
            "Total params: 223036 (871.23 KB)\n",
            "Trainable params: 223036 (871.23 KB)\n",
            "Non-trainable params: 0 (0.00 Byte)\n",
            "_________________________________________________________________\n"
          ]
        }
      ]
    },
    {
      "cell_type": "code",
      "source": [
        "#Encoder Model\n",
        "encoder_vn = Model(inputs = input_img, outputs= Autoencoder.get_layer(\"bot\").output )\n",
        "encoder_vn.summary()"
      ],
      "metadata": {
        "colab": {
          "base_uri": "https://localhost:8080/"
        },
        "id": "uw3MRi4V-aog",
        "outputId": "2d994a92-7d84-4626-ae18-2abfdc013d4e"
      },
      "execution_count": 7,
      "outputs": [
        {
          "output_type": "stream",
          "name": "stdout",
          "text": [
            "Model: \"model_1\"\n",
            "_________________________________________________________________\n",
            " Layer (type)                Output Shape              Param #   \n",
            "=================================================================\n",
            " input_1 (InputLayer)        [(None, 784)]             0         \n",
            "                                                                 \n",
            " dense (Dense)               (None, 128)               100480    \n",
            "                                                                 \n",
            " dense_1 (Dense)             (None, 64)                8256      \n",
            "                                                                 \n",
            " dense_2 (Dense)             (None, 28)                1820      \n",
            "                                                                 \n",
            " bot (Dense)                 (None, 20)                580       \n",
            "                                                                 \n",
            "=================================================================\n",
            "Total params: 111136 (434.12 KB)\n",
            "Trainable params: 111136 (434.12 KB)\n",
            "Non-trainable params: 0 (0.00 Byte)\n",
            "_________________________________________________________________\n"
          ]
        }
      ]
    },
    {
      "cell_type": "code",
      "source": [
        "encoded_input = Input(shape=(20,))\n",
        "d_layer = Autoencoder.get_layer(\"botnext0\")(encoded_input)\n",
        "d_layer = Autoencoder.get_layer(\"botnext1\")(d_layer)\n",
        "d_layer = Autoencoder.get_layer(\"botnext2\")(d_layer)\n",
        "d_layer = Autoencoder.get_layer(\"ae_out\")(d_layer)\n",
        "decoder_vn = Model(inputs = encoded_input , outputs = d_layer)\n",
        "decoder_vn.summary()"
      ],
      "metadata": {
        "colab": {
          "base_uri": "https://localhost:8080/"
        },
        "id": "toGCdILp-eKS",
        "outputId": "754b2233-a78c-4d03-fb5d-1d38fee66b62"
      },
      "execution_count": 8,
      "outputs": [
        {
          "output_type": "stream",
          "name": "stdout",
          "text": [
            "Model: \"model_2\"\n",
            "_________________________________________________________________\n",
            " Layer (type)                Output Shape              Param #   \n",
            "=================================================================\n",
            " input_2 (InputLayer)        [(None, 20)]              0         \n",
            "                                                                 \n",
            " botnext0 (Dense)            (None, 28)                588       \n",
            "                                                                 \n",
            " botnext1 (Dense)            (None, 64)                1856      \n",
            "                                                                 \n",
            " botnext2 (Dense)            (None, 128)               8320      \n",
            "                                                                 \n",
            " ae_out (Dense)              (None, 784)               101136    \n",
            "                                                                 \n",
            "=================================================================\n",
            "Total params: 111900 (437.11 KB)\n",
            "Trainable params: 111900 (437.11 KB)\n",
            "Non-trainable params: 0 (0.00 Byte)\n",
            "_________________________________________________________________\n"
          ]
        }
      ]
    },
    {
      "cell_type": "code",
      "source": [
        "Autoencoder.summary()"
      ],
      "metadata": {
        "colab": {
          "base_uri": "https://localhost:8080/"
        },
        "id": "cdm3cgfh-ic8",
        "outputId": "97dfe3ac-5e83-4cdf-b970-5f7871e1859f"
      },
      "execution_count": 9,
      "outputs": [
        {
          "output_type": "stream",
          "name": "stdout",
          "text": [
            "Model: \"model\"\n",
            "_________________________________________________________________\n",
            " Layer (type)                Output Shape              Param #   \n",
            "=================================================================\n",
            " input_1 (InputLayer)        [(None, 784)]             0         \n",
            "                                                                 \n",
            " dense (Dense)               (None, 128)               100480    \n",
            "                                                                 \n",
            " dense_1 (Dense)             (None, 64)                8256      \n",
            "                                                                 \n",
            " dense_2 (Dense)             (None, 28)                1820      \n",
            "                                                                 \n",
            " bot (Dense)                 (None, 20)                580       \n",
            "                                                                 \n",
            " botnext0 (Dense)            (None, 28)                588       \n",
            "                                                                 \n",
            " botnext1 (Dense)            (None, 64)                1856      \n",
            "                                                                 \n",
            " botnext2 (Dense)            (None, 128)               8320      \n",
            "                                                                 \n",
            " ae_out (Dense)              (None, 784)               101136    \n",
            "                                                                 \n",
            "=================================================================\n",
            "Total params: 223036 (871.23 KB)\n",
            "Trainable params: 223036 (871.23 KB)\n",
            "Non-trainable params: 0 (0.00 Byte)\n",
            "_________________________________________________________________\n"
          ]
        }
      ]
    },
    {
      "cell_type": "code",
      "source": [
        "from time import time\n",
        "tic = time()\n",
        "Autoencoder.fit(x_train, x_train,\n",
        "                epochs=100,\n",
        "                verbose=2,\n",
        "                batch_size=1024,\n",
        "                shuffle=True, validation_split = 0.1)\n",
        "                #validation_data=(x_test, x_test))\n",
        "toc = time()\n",
        "print(\"Training Took {} Secs\".format(toc-tic))"
      ],
      "metadata": {
        "colab": {
          "base_uri": "https://localhost:8080/"
        },
        "id": "eKXbin9p-l0B",
        "outputId": "f877051e-ed13-499f-a44d-4f419e2e658d"
      },
      "execution_count": 10,
      "outputs": [
        {
          "output_type": "stream",
          "name": "stdout",
          "text": [
            "Epoch 1/100\n",
            "53/53 - 4s - loss: 0.6924 - val_loss: 0.6917 - 4s/epoch - 70ms/step\n",
            "Epoch 2/100\n",
            "53/53 - 4s - loss: 0.6910 - val_loss: 0.6902 - 4s/epoch - 67ms/step\n",
            "Epoch 3/100\n",
            "53/53 - 3s - loss: 0.6894 - val_loss: 0.6885 - 3s/epoch - 54ms/step\n",
            "Epoch 4/100\n",
            "53/53 - 2s - loss: 0.6876 - val_loss: 0.6865 - 2s/epoch - 43ms/step\n",
            "Epoch 5/100\n",
            "53/53 - 2s - loss: 0.6853 - val_loss: 0.6838 - 2s/epoch - 43ms/step\n",
            "Epoch 6/100\n",
            "53/53 - 3s - loss: 0.6816 - val_loss: 0.6788 - 3s/epoch - 47ms/step\n",
            "Epoch 7/100\n",
            "53/53 - 4s - loss: 0.6736 - val_loss: 0.6652 - 4s/epoch - 71ms/step\n",
            "Epoch 8/100\n",
            "53/53 - 3s - loss: 0.6381 - val_loss: 0.5817 - 3s/epoch - 62ms/step\n",
            "Epoch 9/100\n",
            "53/53 - 2s - loss: 0.4514 - val_loss: 0.3255 - 2s/epoch - 43ms/step\n",
            "Epoch 10/100\n",
            "53/53 - 2s - loss: 0.2964 - val_loss: 0.2823 - 2s/epoch - 43ms/step\n",
            "Epoch 11/100\n",
            "53/53 - 3s - loss: 0.2791 - val_loss: 0.2756 - 3s/epoch - 59ms/step\n",
            "Epoch 12/100\n",
            "53/53 - 3s - loss: 0.2746 - val_loss: 0.2725 - 3s/epoch - 52ms/step\n",
            "Epoch 13/100\n",
            "53/53 - 4s - loss: 0.2722 - val_loss: 0.2706 - 4s/epoch - 67ms/step\n",
            "Epoch 14/100\n",
            "53/53 - 2s - loss: 0.2706 - val_loss: 0.2692 - 2s/epoch - 42ms/step\n",
            "Epoch 15/100\n",
            "53/53 - 3s - loss: 0.2693 - val_loss: 0.2681 - 3s/epoch - 49ms/step\n",
            "Epoch 16/100\n",
            "53/53 - 4s - loss: 0.2683 - val_loss: 0.2671 - 4s/epoch - 66ms/step\n",
            "Epoch 17/100\n",
            "53/53 - 4s - loss: 0.2674 - val_loss: 0.2663 - 4s/epoch - 73ms/step\n",
            "Epoch 18/100\n",
            "53/53 - 3s - loss: 0.2667 - val_loss: 0.2656 - 3s/epoch - 59ms/step\n",
            "Epoch 19/100\n",
            "53/53 - 2s - loss: 0.2660 - val_loss: 0.2650 - 2s/epoch - 42ms/step\n",
            "Epoch 20/100\n",
            "53/53 - 2s - loss: 0.2654 - val_loss: 0.2644 - 2s/epoch - 42ms/step\n",
            "Epoch 21/100\n",
            "53/53 - 4s - loss: 0.2649 - val_loss: 0.2639 - 4s/epoch - 67ms/step\n",
            "Epoch 22/100\n",
            "53/53 - 3s - loss: 0.2644 - val_loss: 0.2635 - 3s/epoch - 55ms/step\n",
            "Epoch 23/100\n",
            "53/53 - 3s - loss: 0.2640 - val_loss: 0.2631 - 3s/epoch - 63ms/step\n",
            "Epoch 24/100\n",
            "53/53 - 4s - loss: 0.2636 - val_loss: 0.2626 - 4s/epoch - 76ms/step\n",
            "Epoch 25/100\n",
            "53/53 - 2s - loss: 0.2631 - val_loss: 0.2622 - 2s/epoch - 43ms/step\n",
            "Epoch 26/100\n",
            "53/53 - 2s - loss: 0.2627 - val_loss: 0.2618 - 2s/epoch - 42ms/step\n",
            "Epoch 27/100\n",
            "53/53 - 4s - loss: 0.2623 - val_loss: 0.2614 - 4s/epoch - 69ms/step\n",
            "Epoch 28/100\n",
            "53/53 - 4s - loss: 0.2619 - val_loss: 0.2611 - 4s/epoch - 69ms/step\n",
            "Epoch 29/100\n",
            "53/53 - 3s - loss: 0.2615 - val_loss: 0.2607 - 3s/epoch - 54ms/step\n",
            "Epoch 30/100\n",
            "53/53 - 2s - loss: 0.2612 - val_loss: 0.2603 - 2s/epoch - 43ms/step\n",
            "Epoch 31/100\n",
            "53/53 - 2s - loss: 0.2608 - val_loss: 0.2599 - 2s/epoch - 42ms/step\n",
            "Epoch 32/100\n",
            "53/53 - 4s - loss: 0.2604 - val_loss: 0.2595 - 4s/epoch - 82ms/step\n",
            "Epoch 33/100\n",
            "53/53 - 3s - loss: 0.2600 - val_loss: 0.2591 - 3s/epoch - 59ms/step\n",
            "Epoch 34/100\n",
            "53/53 - 2s - loss: 0.2597 - val_loss: 0.2588 - 2s/epoch - 43ms/step\n",
            "Epoch 35/100\n",
            "53/53 - 2s - loss: 0.2593 - val_loss: 0.2584 - 2s/epoch - 43ms/step\n",
            "Epoch 36/100\n",
            "53/53 - 2s - loss: 0.2589 - val_loss: 0.2581 - 2s/epoch - 42ms/step\n",
            "Epoch 37/100\n",
            "53/53 - 2s - loss: 0.2586 - val_loss: 0.2577 - 2s/epoch - 47ms/step\n",
            "Epoch 38/100\n",
            "53/53 - 4s - loss: 0.2582 - val_loss: 0.2574 - 4s/epoch - 68ms/step\n",
            "Epoch 39/100\n",
            "53/53 - 2s - loss: 0.2579 - val_loss: 0.2571 - 2s/epoch - 45ms/step\n",
            "Epoch 40/100\n",
            "53/53 - 2s - loss: 0.2576 - val_loss: 0.2568 - 2s/epoch - 43ms/step\n",
            "Epoch 41/100\n",
            "53/53 - 2s - loss: 0.2573 - val_loss: 0.2565 - 2s/epoch - 43ms/step\n",
            "Epoch 42/100\n",
            "53/53 - 2s - loss: 0.2570 - val_loss: 0.2562 - 2s/epoch - 42ms/step\n",
            "Epoch 43/100\n",
            "53/53 - 3s - loss: 0.2567 - val_loss: 0.2559 - 3s/epoch - 55ms/step\n",
            "Epoch 44/100\n",
            "53/53 - 3s - loss: 0.2564 - val_loss: 0.2557 - 3s/epoch - 63ms/step\n",
            "Epoch 45/100\n",
            "53/53 - 2s - loss: 0.2561 - val_loss: 0.2554 - 2s/epoch - 42ms/step\n",
            "Epoch 46/100\n",
            "53/53 - 2s - loss: 0.2558 - val_loss: 0.2552 - 2s/epoch - 43ms/step\n",
            "Epoch 47/100\n",
            "53/53 - 2s - loss: 0.2556 - val_loss: 0.2549 - 2s/epoch - 43ms/step\n",
            "Epoch 48/100\n",
            "53/53 - 2s - loss: 0.2553 - val_loss: 0.2547 - 2s/epoch - 43ms/step\n",
            "Epoch 49/100\n",
            "53/53 - 3s - loss: 0.2551 - val_loss: 0.2545 - 3s/epoch - 64ms/step\n",
            "Epoch 50/100\n",
            "53/53 - 3s - loss: 0.2549 - val_loss: 0.2543 - 3s/epoch - 55ms/step\n",
            "Epoch 51/100\n",
            "53/53 - 2s - loss: 0.2546 - val_loss: 0.2541 - 2s/epoch - 43ms/step\n",
            "Epoch 52/100\n",
            "53/53 - 2s - loss: 0.2544 - val_loss: 0.2539 - 2s/epoch - 42ms/step\n",
            "Epoch 53/100\n",
            "53/53 - 2s - loss: 0.2542 - val_loss: 0.2537 - 2s/epoch - 42ms/step\n",
            "Epoch 54/100\n",
            "53/53 - 2s - loss: 0.2541 - val_loss: 0.2535 - 2s/epoch - 45ms/step\n",
            "Epoch 55/100\n",
            "53/53 - 4s - loss: 0.2539 - val_loss: 0.2534 - 4s/epoch - 68ms/step\n",
            "Epoch 56/100\n",
            "53/53 - 2s - loss: 0.2537 - val_loss: 0.2533 - 2s/epoch - 47ms/step\n",
            "Epoch 57/100\n",
            "53/53 - 2s - loss: 0.2536 - val_loss: 0.2531 - 2s/epoch - 43ms/step\n",
            "Epoch 58/100\n",
            "53/53 - 2s - loss: 0.2534 - val_loss: 0.2529 - 2s/epoch - 44ms/step\n",
            "Epoch 59/100\n",
            "53/53 - 2s - loss: 0.2533 - val_loss: 0.2529 - 2s/epoch - 43ms/step\n",
            "Epoch 60/100\n",
            "53/53 - 3s - loss: 0.2531 - val_loss: 0.2527 - 3s/epoch - 57ms/step\n",
            "Epoch 61/100\n",
            "53/53 - 3s - loss: 0.2530 - val_loss: 0.2527 - 3s/epoch - 64ms/step\n",
            "Epoch 62/100\n",
            "53/53 - 3s - loss: 0.2529 - val_loss: 0.2525 - 3s/epoch - 51ms/step\n",
            "Epoch 63/100\n",
            "53/53 - 2s - loss: 0.2528 - val_loss: 0.2524 - 2s/epoch - 44ms/step\n",
            "Epoch 64/100\n",
            "53/53 - 2s - loss: 0.2527 - val_loss: 0.2523 - 2s/epoch - 44ms/step\n",
            "Epoch 65/100\n",
            "53/53 - 2s - loss: 0.2526 - val_loss: 0.2522 - 2s/epoch - 46ms/step\n",
            "Epoch 66/100\n",
            "53/53 - 4s - loss: 0.2525 - val_loss: 0.2521 - 4s/epoch - 71ms/step\n",
            "Epoch 67/100\n",
            "53/53 - 3s - loss: 0.2524 - val_loss: 0.2521 - 3s/epoch - 48ms/step\n",
            "Epoch 68/100\n",
            "53/53 - 2s - loss: 0.2523 - val_loss: 0.2520 - 2s/epoch - 43ms/step\n",
            "Epoch 69/100\n",
            "53/53 - 2s - loss: 0.2522 - val_loss: 0.2519 - 2s/epoch - 43ms/step\n",
            "Epoch 70/100\n",
            "53/53 - 2s - loss: 0.2521 - val_loss: 0.2518 - 2s/epoch - 44ms/step\n",
            "Epoch 71/100\n",
            "53/53 - 3s - loss: 0.2521 - val_loss: 0.2518 - 3s/epoch - 56ms/step\n",
            "Epoch 72/100\n",
            "53/53 - 3s - loss: 0.2520 - val_loss: 0.2517 - 3s/epoch - 62ms/step\n",
            "Epoch 73/100\n",
            "53/53 - 2s - loss: 0.2519 - val_loss: 0.2516 - 2s/epoch - 43ms/step\n",
            "Epoch 74/100\n",
            "53/53 - 2s - loss: 0.2519 - val_loss: 0.2516 - 2s/epoch - 43ms/step\n",
            "Epoch 75/100\n",
            "53/53 - 2s - loss: 0.2518 - val_loss: 0.2515 - 2s/epoch - 43ms/step\n",
            "Epoch 76/100\n",
            "53/53 - 2s - loss: 0.2517 - val_loss: 0.2515 - 2s/epoch - 43ms/step\n",
            "Epoch 77/100\n",
            "53/53 - 4s - loss: 0.2517 - val_loss: 0.2514 - 4s/epoch - 66ms/step\n",
            "Epoch 78/100\n",
            "53/53 - 3s - loss: 0.2516 - val_loss: 0.2514 - 3s/epoch - 55ms/step\n",
            "Epoch 79/100\n",
            "53/53 - 2s - loss: 0.2516 - val_loss: 0.2513 - 2s/epoch - 44ms/step\n",
            "Epoch 80/100\n",
            "53/53 - 2s - loss: 0.2515 - val_loss: 0.2513 - 2s/epoch - 44ms/step\n",
            "Epoch 81/100\n",
            "53/53 - 2s - loss: 0.2515 - val_loss: 0.2512 - 2s/epoch - 44ms/step\n",
            "Epoch 82/100\n",
            "53/53 - 3s - loss: 0.2514 - val_loss: 0.2512 - 3s/epoch - 51ms/step\n",
            "Epoch 83/100\n",
            "53/53 - 4s - loss: 0.2514 - val_loss: 0.2511 - 4s/epoch - 68ms/step\n",
            "Epoch 84/100\n",
            "53/53 - 2s - loss: 0.2513 - val_loss: 0.2511 - 2s/epoch - 43ms/step\n",
            "Epoch 85/100\n",
            "53/53 - 2s - loss: 0.2513 - val_loss: 0.2511 - 2s/epoch - 44ms/step\n",
            "Epoch 86/100\n",
            "53/53 - 2s - loss: 0.2512 - val_loss: 0.2510 - 2s/epoch - 44ms/step\n",
            "Epoch 87/100\n",
            "53/53 - 2s - loss: 0.2512 - val_loss: 0.2510 - 2s/epoch - 43ms/step\n",
            "Epoch 88/100\n",
            "53/53 - 3s - loss: 0.2512 - val_loss: 0.2509 - 3s/epoch - 62ms/step\n",
            "Epoch 89/100\n",
            "53/53 - 3s - loss: 0.2511 - val_loss: 0.2509 - 3s/epoch - 58ms/step\n",
            "Epoch 90/100\n",
            "53/53 - 2s - loss: 0.2511 - val_loss: 0.2509 - 2s/epoch - 43ms/step\n",
            "Epoch 91/100\n",
            "53/53 - 2s - loss: 0.2510 - val_loss: 0.2509 - 2s/epoch - 44ms/step\n",
            "Epoch 92/100\n",
            "53/53 - 2s - loss: 0.2510 - val_loss: 0.2508 - 2s/epoch - 44ms/step\n",
            "Epoch 93/100\n",
            "53/53 - 3s - loss: 0.2510 - val_loss: 0.2507 - 3s/epoch - 50ms/step\n",
            "Epoch 94/100\n",
            "53/53 - 4s - loss: 0.2509 - val_loss: 0.2508 - 4s/epoch - 72ms/step\n",
            "Epoch 95/100\n",
            "53/53 - 2s - loss: 0.2509 - val_loss: 0.2507 - 2s/epoch - 43ms/step\n",
            "Epoch 96/100\n",
            "53/53 - 2s - loss: 0.2509 - val_loss: 0.2507 - 2s/epoch - 43ms/step\n",
            "Epoch 97/100\n",
            "53/53 - 2s - loss: 0.2508 - val_loss: 0.2507 - 2s/epoch - 44ms/step\n",
            "Epoch 98/100\n",
            "53/53 - 2s - loss: 0.2508 - val_loss: 0.2506 - 2s/epoch - 43ms/step\n",
            "Epoch 99/100\n",
            "53/53 - 3s - loss: 0.2508 - val_loss: 0.2506 - 3s/epoch - 61ms/step\n",
            "Epoch 100/100\n",
            "53/53 - 3s - loss: 0.2507 - val_loss: 0.2506 - 3s/epoch - 58ms/step\n",
            "Training Took 274.3447699546814 Secs\n"
          ]
        }
      ]
    },
    {
      "cell_type": "code",
      "source": [
        "#encoded_imgs = encoder_l.predict(x_test)\n",
        "encoded_imgs = encoder_vn.predict(x_test)\n",
        "print(\"Reduced Image Representation shape achieved Through Encoder Part: {}\".format(encoded_imgs.shape))\n",
        "#decoded_imgs = decoder_l.predict(encoded_imgs)\n",
        "decoded_imgs = decoder_vn.predict(encoded_imgs)\n",
        "print(\"Recreated image Representation of Shape {} using Decoder and reduced Image representation of shape {}\".format (decoded_imgs.shape, encoded_imgs.shape))\n",
        "n = 10  # how many digits we will display\n",
        "k = 9 #multiplier\n",
        "plt.figure(figsize=(20, 4))\n",
        "for i in range(n):\n",
        "    # display original\n",
        "    ax = plt.subplot(2, n, i + 1)\n",
        "    plt.imshow(x_test[i*k].reshape(28, 28))\n",
        "    plt.gray()\n",
        "    ax.get_xaxis().set_visible(False)\n",
        "    ax.get_yaxis().set_visible(False)\n",
        "\n",
        "    # display reconstruction\n",
        "    ax = plt.subplot(2, n, i + 1 + n)\n",
        "    plt.imshow(decoded_imgs[i*k].reshape(28, 28))\n",
        "    plt.gray()\n",
        "    ax.get_xaxis().set_visible(False)\n",
        "    ax.get_yaxis().set_visible(False)\n",
        "plt.show()"
      ],
      "metadata": {
        "colab": {
          "base_uri": "https://localhost:8080/",
          "height": 280
        },
        "id": "dFH-EZtE-qvV",
        "outputId": "507f1f14-b06c-43e4-d1c8-17004795aeef"
      },
      "execution_count": 11,
      "outputs": [
        {
          "output_type": "stream",
          "name": "stdout",
          "text": [
            "313/313 [==============================] - 1s 2ms/step\n",
            "Reduced Image Representation shape achieved Through Encoder Part: (10000, 20)\n",
            "313/313 [==============================] - 1s 2ms/step\n",
            "Recreated image Representation of Shape (10000, 784) using Decoder and reduced Image representation of shape (10000, 20)\n"
          ]
        },
        {
          "output_type": "display_data",
          "data": {
            "text/plain": [
              "<Figure size 2000x400 with 20 Axes>"
            ],
            "image/png": "[encoded data removed]"
          },
          "metadata": {}
        }
      ]
    },
    {
      "cell_type": "code",
      "source": [
        "from tensorflow.keras.layers import Input, Conv2D, MaxPooling2D, UpSampling2D, Flatten, Reshape\n",
        "from tensorflow.keras.models import Model"
      ],
      "metadata": {
        "id": "q6GIpzGy-t38"
      },
      "execution_count": 12,
      "outputs": []
    },
    {
      "cell_type": "code",
      "source": [
        "input_layer_cnv = Input(shape = (28,28,1))\n",
        "ae_cnv_en = Conv2D (32, (3,3), activation = \"relu\", padding = \"same\", kernel_initializer=\"he_normal\")(input_layer_cnv)\n",
        "ae_cnv_en = MaxPooling2D ((2,2), padding=\"same\")(ae_cnv_en)\n",
        "\n",
        "ae_cnv_en = Conv2D (32, (3,3), activation = \"relu\", padding = \"same\")(ae_cnv_en)\n",
        "ae_cnv_en = MaxPooling2D ((2,2), padding=\"same\")(ae_cnv_en)\n",
        "\n",
        "ae_cnv_en = Conv2D (4, (3,3), activation = \"relu\", padding = \"same\")(ae_cnv_en)\n",
        "ae_cnv_en = MaxPooling2D ((2,2), padding=\"same\")(ae_cnv_en)\n",
        "\n",
        "ae_cnv_en = Flatten(name = \"bot\")(ae_cnv_en)\n",
        "\n",
        "ae_cnv_de = Reshape((4,4,4), input_shape= (64,), name= \"botnext0\")(ae_cnv_en)\n",
        "ae_cnv_de = Conv2D (4, (3,3), activation = \"relu\", padding = \"same\",name= \"botnext1\")(ae_cnv_de)\n",
        "ae_cnv_de = UpSampling2D ((2,2),name= \"botnext2\")(ae_cnv_de)\n",
        "\n",
        "ae_cnv_de = Conv2D (32, (3,3), activation = \"relu\", padding = \"same\", name= \"botnext3\")(ae_cnv_de)\n",
        "ae_cnv_de = UpSampling2D ((2,2), name= \"botnext4\")(ae_cnv_de)\n",
        "\n",
        "ae_cnv_de = Conv2D (32, (3,3), activation = \"relu\", padding = \"valid\",name= \"botnext5\")(ae_cnv_de)\n",
        "ae_cnv_de = UpSampling2D ((2,2), name= \"botnext6\")(ae_cnv_de)\n",
        "\n",
        "ae_cnv_de = Conv2D (1, (3,3), activation = \"sigmoid\", padding = \"same\",name = \"botnext7\")(ae_cnv_de)\n",
        "Ae_Conv = Model(inputs = input_layer_cnv, outputs = ae_cnv_de)\n",
        "\n",
        "Ae_Conv.compile(optimizer=tf.keras.optimizers.SGD(0.09,clipvalue=2.5), loss='binary_crossentropy', metrics = [\"accuracy\"])\n",
        "# Ae_Conv.compile(optimizer=tf.keras.optimizers.Adadelta(0.1,clipvalue=2), loss='binary_crossentropy', metrics = [\"accuracy\"])\n",
        "Ae_Conv.summary()"
      ],
      "metadata": {
        "colab": {
          "base_uri": "https://localhost:8080/"
        },
        "id": "l9RFkbY8-xWi",
        "outputId": "84c9e829-5f58-4ba5-cd91-6f8e7a8b500b"
      },
      "execution_count": 13,
      "outputs": [
        {
          "output_type": "stream",
          "name": "stdout",
          "text": [
            "Model: \"model_3\"\n",
            "_________________________________________________________________\n",
            " Layer (type)                Output Shape              Param #   \n",
            "=================================================================\n",
            " input_3 (InputLayer)        [(None, 28, 28, 1)]       0         \n",
            "                                                                 \n",
            " conv2d (Conv2D)             (None, 28, 28, 32)        320       \n",
            "                                                                 \n",
            " max_pooling2d (MaxPooling2  (None, 14, 14, 32)        0         \n",
            " D)                                                              \n",
            "                                                                 \n",
            " conv2d_1 (Conv2D)           (None, 14, 14, 32)        9248      \n",
            "                                                                 \n",
            " max_pooling2d_1 (MaxPoolin  (None, 7, 7, 32)          0         \n",
            " g2D)                                                            \n",
            "                                                                 \n",
            " conv2d_2 (Conv2D)           (None, 7, 7, 4)           1156      \n",
            "                                                                 \n",
            " max_pooling2d_2 (MaxPoolin  (None, 4, 4, 4)           0         \n",
            " g2D)                                                            \n",
            "                                                                 \n",
            " bot (Flatten)               (None, 64)                0         \n",
            "                                                                 \n",
            " botnext0 (Reshape)          (None, 4, 4, 4)           0         \n",
            "                                                                 \n",
            " botnext1 (Conv2D)           (None, 4, 4, 4)           148       \n",
            "                                                                 \n",
            " botnext2 (UpSampling2D)     (None, 8, 8, 4)           0         \n",
            "                                                                 \n",
            " botnext3 (Conv2D)           (None, 8, 8, 32)          1184      \n",
            "                                                                 \n",
            " botnext4 (UpSampling2D)     (None, 16, 16, 32)        0         \n",
            "                                                                 \n",
            " botnext5 (Conv2D)           (None, 14, 14, 32)        9248      \n",
            "                                                                 \n",
            " botnext6 (UpSampling2D)     (None, 28, 28, 32)        0         \n",
            "                                                                 \n",
            " botnext7 (Conv2D)           (None, 28, 28, 1)         289       \n",
            "                                                                 \n",
            "=================================================================\n",
            "Total params: 21593 (84.35 KB)\n",
            "Trainable params: 21593 (84.35 KB)\n",
            "Non-trainable params: 0 (0.00 Byte)\n",
            "_________________________________________________________________\n"
          ]
        }
      ]
    },
    {
      "cell_type": "code",
      "source": [
        "ae_conv_encoder = Model (inputs = input_layer_cnv, outputs = Ae_Conv.get_layer(\"bot\").output, name = \"Conv_AE_encoder\")\n",
        "ae_conv_encoder.summary()"
      ],
      "metadata": {
        "colab": {
          "base_uri": "https://localhost:8080/"
        },
        "id": "AaMMhoLh-02o",
        "outputId": "3c404662-6e48-4ad6-a614-3d19f4f0f686"
      },
      "execution_count": 14,
      "outputs": [
        {
          "output_type": "stream",
          "name": "stdout",
          "text": [
            "Model: \"Conv_AE_encoder\"\n",
            "_________________________________________________________________\n",
            " Layer (type)                Output Shape              Param #   \n",
            "=================================================================\n",
            " input_3 (InputLayer)        [(None, 28, 28, 1)]       0         \n",
            "                                                                 \n",
            " conv2d (Conv2D)             (None, 28, 28, 32)        320       \n",
            "                                                                 \n",
            " max_pooling2d (MaxPooling2  (None, 14, 14, 32)        0         \n",
            " D)                                                              \n",
            "                                                                 \n",
            " conv2d_1 (Conv2D)           (None, 14, 14, 32)        9248      \n",
            "                                                                 \n",
            " max_pooling2d_1 (MaxPoolin  (None, 7, 7, 32)          0         \n",
            " g2D)                                                            \n",
            "                                                                 \n",
            " conv2d_2 (Conv2D)           (None, 7, 7, 4)           1156      \n",
            "                                                                 \n",
            " max_pooling2d_2 (MaxPoolin  (None, 4, 4, 4)           0         \n",
            " g2D)                                                            \n",
            "                                                                 \n",
            " bot (Flatten)               (None, 64)                0         \n",
            "                                                                 \n",
            "=================================================================\n",
            "Total params: 10724 (41.89 KB)\n",
            "Trainable params: 10724 (41.89 KB)\n",
            "Non-trainable params: 0 (0.00 Byte)\n",
            "_________________________________________________________________\n"
          ]
        }
      ]
    },
    {
      "cell_type": "code",
      "source": [
        "# Traversing through the Layers of Decoder using Loop\n",
        "\n",
        "encode_inp_cnv = Input(shape = (64,))\n",
        "tmp_dec = Ae_Conv.get_layer(\"botnext0\")(encode_inp_cnv)\n",
        "for i in range(1,8):\n",
        "  st = \"botnext{}\".format(i)\n",
        "  tmp_dec = Ae_Conv.get_layer(st)(tmp_dec)\n",
        "\n",
        "ae_conv_decoder = Model(inputs = encode_inp_cnv, outputs = tmp_dec, name= \"Conv_AE_decoder\")\n",
        "ae_conv_decoder.summary()"
      ],
      "metadata": {
        "colab": {
          "base_uri": "https://localhost:8080/"
        },
        "id": "twGJx7Zf-3Ue",
        "outputId": "a4025511-1f48-41ca-e6f2-4e104c0ab5b7"
      },
      "execution_count": 15,
      "outputs": [
        {
          "output_type": "stream",
          "name": "stdout",
          "text": [
            "Model: \"Conv_AE_decoder\"\n",
            "_________________________________________________________________\n",
            " Layer (type)                Output Shape              Param #   \n",
            "=================================================================\n",
            " input_4 (InputLayer)        [(None, 64)]              0         \n",
            "                                                                 \n",
            " botnext0 (Reshape)          (None, 4, 4, 4)           0         \n",
            "                                                                 \n",
            " botnext1 (Conv2D)           (None, 4, 4, 4)           148       \n",
            "                                                                 \n",
            " botnext2 (UpSampling2D)     (None, 8, 8, 4)           0         \n",
            "                                                                 \n",
            " botnext3 (Conv2D)           (None, 8, 8, 32)          1184      \n",
            "                                                                 \n",
            " botnext4 (UpSampling2D)     (None, 16, 16, 32)        0         \n",
            "                                                                 \n",
            " botnext5 (Conv2D)           (None, 14, 14, 32)        9248      \n",
            "                                                                 \n",
            " botnext6 (UpSampling2D)     (None, 28, 28, 32)        0         \n",
            "                                                                 \n",
            " botnext7 (Conv2D)           (None, 28, 28, 1)         289       \n",
            "                                                                 \n",
            "=================================================================\n",
            "Total params: 10869 (42.46 KB)\n",
            "Trainable params: 10869 (42.46 KB)\n",
            "Non-trainable params: 0 (0.00 Byte)\n",
            "_________________________________________________________________\n"
          ]
        }
      ]
    },
    {
      "cell_type": "code",
      "source": [
        "x_train = x_train.reshape(x_train.shape[0], 28,28,1)\n",
        "x_test = x_test.reshape(x_test.shape[0], 28,28,1)\n",
        "print(x_train.shape, x_test.shape)"
      ],
      "metadata": {
        "colab": {
          "base_uri": "https://localhost:8080/"
        },
        "id": "lYCg2lAq-5tw",
        "outputId": "865df285-fca4-4115-91bd-4a44bc0b0ea7"
      },
      "execution_count": 16,
      "outputs": [
        {
          "output_type": "stream",
          "name": "stdout",
          "text": [
            "(60000, 28, 28, 1) (10000, 28, 28, 1)\n"
          ]
        }
      ]
    },
    {
      "cell_type": "code",
      "source": [
        "from time import time\n",
        "tic = time()\n",
        "Ae_Conv.fit(x_train,x_train, epochs = 100, verbose = 2, batch_size = 1024, shuffle = False, validation_split = 0.1)\n",
        "toc = time()\n",
        "print(\"Training Took {} Secs\".format(toc-tic))"
      ],
      "metadata": {
        "colab": {
          "base_uri": "https://localhost:8080/"
        },
        "id": "IQhy__Yc-7UN",
        "outputId": "c2a3cee2-fa5f-4b61-b4e3-f58928a9b7a6"
      },
      "execution_count": null,
      "outputs": [
        {
          "output_type": "stream",
          "name": "stdout",
          "text": [
            "Epoch 1/100\n",
            "53/53 - 140s - loss: 0.3557 - accuracy: 0.7835 - val_loss: 0.2402 - val_accuracy: 0.7947 - 140s/epoch - 3s/step\n",
            "Epoch 2/100\n",
            "53/53 - 123s - loss: 0.2309 - accuracy: 0.7871 - val_loss: 0.2275 - val_accuracy: 0.8027 - 123s/epoch - 2s/step\n",
            "Epoch 3/100\n",
            "53/53 - 121s - loss: 0.2184 - accuracy: 0.7884 - val_loss: 0.2247 - val_accuracy: 0.8044 - 121s/epoch - 2s/step\n",
            "Epoch 4/100\n",
            "53/53 - 121s - loss: 0.2130 - accuracy: 0.7902 - val_loss: 0.2079 - val_accuracy: 0.7900 - 121s/epoch - 2s/step\n",
            "Epoch 5/100\n",
            "53/53 - 121s - loss: 0.2071 - accuracy: 0.7911 - val_loss: 0.2091 - val_accuracy: 0.8043 - 121s/epoch - 2s/step\n",
            "Epoch 6/100\n",
            "53/53 - 122s - loss: 0.2014 - accuracy: 0.7923 - val_loss: 0.1962 - val_accuracy: 0.7924 - 122s/epoch - 2s/step\n",
            "Epoch 7/100\n",
            "53/53 - 123s - loss: 0.1973 - accuracy: 0.7926 - val_loss: 0.1995 - val_accuracy: 0.8041 - 123s/epoch - 2s/step\n",
            "Epoch 8/100\n",
            "53/53 - 121s - loss: 0.1925 - accuracy: 0.7935 - val_loss: 0.1906 - val_accuracy: 0.7920 - 121s/epoch - 2s/step\n",
            "Epoch 9/100\n"
          ]
        }
      ]
    },
    {
      "cell_type": "code",
      "source": [
        "encoded_imgs = ae_conv_encoder.predict(x_test)\n",
        "print(encoded_imgs.shape)"
      ],
      "metadata": {
        "id": "75BVRLs3-9a0"
      },
      "execution_count": null,
      "outputs": []
    }
  ]
}