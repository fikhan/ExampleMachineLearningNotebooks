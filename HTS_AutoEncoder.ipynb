{
  "cells": [
    {
      "cell_type": "markdown",
      "metadata": {
        "id": "view-in-github",
        "colab_type": "text"
      },
      "source": [
        "<a href=\"https://colab.research.google.com/github/fikhan/ExampleMachineLearningNotebooks/blob/master/HTS_AutoEncoder.ipynb\" target=\"_parent\"><img src=\"https://colab.research.google.com/assets/colab-badge.svg\" alt=\"Open In Colab\"/></a>"
      ]
    },
    {
      "cell_type": "code",
      "execution_count": 1,
      "metadata": {
        "id": "Vi8EH6j2-DJQ"
      },
      "outputs": [],
      "source": [
        "import tensorflow as tf\n",
        "from tensorflow.keras.datasets import mnist\n",
        "import numpy as np\n",
        "import matplotlib.pyplot as plt"
      ]
    },
    {
      "cell_type": "code",
      "execution_count": 2,
      "metadata": {
        "colab": {
          "base_uri": "https://localhost:8080/"
        },
        "id": "7PPEBVeA-H1V",
        "outputId": "aff0bfb3-299c-4467-e27d-be17564615b3"
      },
      "outputs": [
        {
          "output_type": "stream",
          "name": "stdout",
          "text": [
            "Downloading data from https://storage.googleapis.com/tensorflow/tf-keras-datasets/mnist.npz\n",
            "11490434/11490434 [==============================] - 0s 0us/step\n"
          ]
        }
      ],
      "source": [
        "# Loading the dataset without Target Variables\n",
        "(x_train, _), (x_test, _) = mnist.load_data()"
      ]
    },
    {
      "cell_type": "code",
      "execution_count": 3,
      "metadata": {
        "colab": {
          "base_uri": "https://localhost:8080/",
          "height": 100
        },
        "id": "HQxvVpue-ME7",
        "outputId": "63266214-913f-4294-a781-64a6c8917274"
      },
      "outputs": [
        {
          "output_type": "display_data",
          "data": {
            "text/plain": [
              "<Figure size 2000x400 with 10 Axes>"
            ],
            "image/png": "[encoded data removed]"
          },
          "metadata": {}
        }
      ],
      "source": [
        "# Display the Loaded dataset sample images\n",
        "\n",
        "\n",
        "n = 10  # how many digits we will display\n",
        "plt.figure(figsize=(20, 4))\n",
        "for i in range(n):\n",
        "    # display original\n",
        "    ax = plt.subplot(1, n, i + 1)\n",
        "    plt.imshow(x_test[i].reshape(28, 28))\n",
        "    plt.gray()\n",
        "    ax.get_xaxis().set_visible(False)\n",
        "    ax.get_yaxis().set_visible(False)\n",
        "plt.show()\n",
        "plt.close()"
      ]
    },
    {
      "cell_type": "code",
      "execution_count": 4,
      "metadata": {
        "colab": {
          "base_uri": "https://localhost:8080/"
        },
        "id": "IjGc4cDL-P8s",
        "outputId": "9806447c-eeef-4238-bd84-b6406189c434"
      },
      "outputs": [
        {
          "output_type": "stream",
          "name": "stdout",
          "text": [
            "(60000, 784)\n",
            "(10000, 784)\n"
          ]
        }
      ],
      "source": [
        "x_train = x_train.astype('float32') / 255.\n",
        "x_test = x_test.astype('float32') / 255.\n",
        "x_train = x_train.reshape((len(x_train), 28*28*1))\n",
        "x_test = x_test.reshape((len(x_test), 28*28*1))\n",
        "print (x_train.shape)\n",
        "print (x_test.shape)"
      ]
    },
    {
      "cell_type": "code",
      "execution_count": 5,
      "metadata": {
        "id": "pesd0FiB-TTh"
      },
      "outputs": [],
      "source": [
        "from tensorflow.keras.layers import Input, Dense\n",
        "from tensorflow.keras.models import Model"
      ]
    },
    {
      "cell_type": "code",
      "execution_count": 6,
      "metadata": {
        "colab": {
          "base_uri": "https://localhost:8080/"
        },
        "id": "HuEpFrGT-WcU",
        "outputId": "7cc8372a-b56f-4cd0-ff95-6db4ea83ca6a"
      },
      "outputs": [
        {
          "output_type": "stream",
          "name": "stdout",
          "text": [
            "Model: \"model\"\n",
            "_________________________________________________________________\n",
            " Layer (type)                Output Shape              Param #   \n",
            "=================================================================\n",
            " input_1 (InputLayer)        [(None, 784)]             0         \n",
            "                                                                 \n",
            " dense (Dense)               (None, 128)               100480    \n",
            "                                                                 \n",
            " dense_1 (Dense)             (None, 64)                8256      \n",
            "                                                                 \n",
            " dense_2 (Dense)             (None, 28)                1820      \n",
            "                                                                 \n",
            " bot (Dense)                 (None, 20)                580       \n",
            "                                                                 \n",
            " botnext0 (Dense)            (None, 28)                588       \n",
            "                                                                 \n",
            " botnext1 (Dense)            (None, 64)                1856      \n",
            "                                                                 \n",
            " botnext2 (Dense)            (None, 128)               8320      \n",
            "                                                                 \n",
            " ae_out (Dense)              (None, 784)               101136    \n",
            "                                                                 \n",
            "=================================================================\n",
            "Total params: 223036 (871.23 KB)\n",
            "Trainable params: 223036 (871.23 KB)\n",
            "Non-trainable params: 0 (0.00 Byte)\n",
            "_________________________________________________________________\n"
          ]
        }
      ],
      "source": [
        "input_img = Input(shape=(784,))  #Input layer\n",
        "encoded = Dense(128, activation='relu')(input_img)\n",
        "encoded = Dense(64, activation='relu')(encoded)\n",
        "encoded = Dense(28, activation='relu')(encoded)\n",
        "\n",
        "encoded = Dense(20, activation='relu', name='bot')(encoded)\n",
        "\n",
        "decoded = Dense(28, activation='relu', name='botnext0')(encoded)\n",
        "decoded = Dense(64, activation='relu', name='botnext1')(decoded)\n",
        "decoded = Dense(128, activation='relu', name = 'botnext2')(decoded)\n",
        "decoded = Dense(784, activation='sigmoid', name=\"ae_out\")(decoded)\n",
        "\n",
        "Autoencoder = Model(inputs=input_img, outputs=decoded)\n",
        "Autoencoder.compile(optimizer=tf.keras.optimizers.SGD(0.09,clipvalue=2.5), loss='binary_crossentropy')#, metrics = [\"accuracy\"])\n",
        "Autoencoder.summary()"
      ]
    },
    {
      "cell_type": "code",
      "execution_count": 7,
      "metadata": {
        "colab": {
          "base_uri": "https://localhost:8080/"
        },
        "id": "uw3MRi4V-aog",
        "outputId": "94e5c1d8-9407-4a4f-b5cc-cdf7e786155e"
      },
      "outputs": [
        {
          "output_type": "stream",
          "name": "stdout",
          "text": [
            "Model: \"model_1\"\n",
            "_________________________________________________________________\n",
            " Layer (type)                Output Shape              Param #   \n",
            "=================================================================\n",
            " input_1 (InputLayer)        [(None, 784)]             0         \n",
            "                                                                 \n",
            " dense (Dense)               (None, 128)               100480    \n",
            "                                                                 \n",
            " dense_1 (Dense)             (None, 64)                8256      \n",
            "                                                                 \n",
            " dense_2 (Dense)             (None, 28)                1820      \n",
            "                                                                 \n",
            " bot (Dense)                 (None, 20)                580       \n",
            "                                                                 \n",
            "=================================================================\n",
            "Total params: 111136 (434.12 KB)\n",
            "Trainable params: 111136 (434.12 KB)\n",
            "Non-trainable params: 0 (0.00 Byte)\n",
            "_________________________________________________________________\n"
          ]
        }
      ],
      "source": [
        "#Encoder Model\n",
        "encoder_vn = Model(inputs = input_img, outputs= Autoencoder.get_layer(\"bot\").output )\n",
        "encoder_vn.summary()"
      ]
    },
    {
      "cell_type": "code",
      "execution_count": 8,
      "metadata": {
        "colab": {
          "base_uri": "https://localhost:8080/"
        },
        "id": "toGCdILp-eKS",
        "outputId": "5789e057-c910-4628-985d-06d33ecd0e1d"
      },
      "outputs": [
        {
          "output_type": "stream",
          "name": "stdout",
          "text": [
            "Model: \"model_2\"\n",
            "_________________________________________________________________\n",
            " Layer (type)                Output Shape              Param #   \n",
            "=================================================================\n",
            " input_2 (InputLayer)        [(None, 20)]              0         \n",
            "                                                                 \n",
            " botnext0 (Dense)            (None, 28)                588       \n",
            "                                                                 \n",
            " botnext1 (Dense)            (None, 64)                1856      \n",
            "                                                                 \n",
            " botnext2 (Dense)            (None, 128)               8320      \n",
            "                                                                 \n",
            " ae_out (Dense)              (None, 784)               101136    \n",
            "                                                                 \n",
            "=================================================================\n",
            "Total params: 111900 (437.11 KB)\n",
            "Trainable params: 111900 (437.11 KB)\n",
            "Non-trainable params: 0 (0.00 Byte)\n",
            "_________________________________________________________________\n"
          ]
        }
      ],
      "source": [
        "encoded_input = Input(shape=(20,))\n",
        "d_layer = Autoencoder.get_layer(\"botnext0\")(encoded_input)\n",
        "d_layer = Autoencoder.get_layer(\"botnext1\")(d_layer)\n",
        "d_layer = Autoencoder.get_layer(\"botnext2\")(d_layer)\n",
        "d_layer = Autoencoder.get_layer(\"ae_out\")(d_layer)\n",
        "decoder_vn = Model(inputs = encoded_input , outputs = d_layer)\n",
        "decoder_vn.summary()"
      ]
    },
    {
      "cell_type": "code",
      "execution_count": 9,
      "metadata": {
        "colab": {
          "base_uri": "https://localhost:8080/"
        },
        "id": "cdm3cgfh-ic8",
        "outputId": "b6d7afff-4714-43a9-c693-5b686b0b1418"
      },
      "outputs": [
        {
          "output_type": "stream",
          "name": "stdout",
          "text": [
            "Model: \"model\"\n",
            "_________________________________________________________________\n",
            " Layer (type)                Output Shape              Param #   \n",
            "=================================================================\n",
            " input_1 (InputLayer)        [(None, 784)]             0         \n",
            "                                                                 \n",
            " dense (Dense)               (None, 128)               100480    \n",
            "                                                                 \n",
            " dense_1 (Dense)             (None, 64)                8256      \n",
            "                                                                 \n",
            " dense_2 (Dense)             (None, 28)                1820      \n",
            "                                                                 \n",
            " bot (Dense)                 (None, 20)                580       \n",
            "                                                                 \n",
            " botnext0 (Dense)            (None, 28)                588       \n",
            "                                                                 \n",
            " botnext1 (Dense)            (None, 64)                1856      \n",
            "                                                                 \n",
            " botnext2 (Dense)            (None, 128)               8320      \n",
            "                                                                 \n",
            " ae_out (Dense)              (None, 784)               101136    \n",
            "                                                                 \n",
            "=================================================================\n",
            "Total params: 223036 (871.23 KB)\n",
            "Trainable params: 223036 (871.23 KB)\n",
            "Non-trainable params: 0 (0.00 Byte)\n",
            "_________________________________________________________________\n"
          ]
        }
      ],
      "source": [
        "Autoencoder.summary()"
      ]
    },
    {
      "cell_type": "code",
      "execution_count": 10,
      "metadata": {
        "colab": {
          "base_uri": "https://localhost:8080/"
        },
        "id": "eKXbin9p-l0B",
        "outputId": "e18a8f63-62e4-4e2d-ae9f-1a96a6279ae1"
      },
      "outputs": [
        {
          "output_type": "stream",
          "name": "stdout",
          "text": [
            "Epoch 1/100\n",
            "53/53 - 4s - loss: 0.6928 - val_loss: 0.6922 - 4s/epoch - 70ms/step\n",
            "Epoch 2/100\n",
            "53/53 - 3s - loss: 0.6916 - val_loss: 0.6909 - 3s/epoch - 61ms/step\n",
            "Epoch 3/100\n",
            "53/53 - 2s - loss: 0.6904 - val_loss: 0.6897 - 2s/epoch - 39ms/step\n",
            "Epoch 4/100\n",
            "53/53 - 2s - loss: 0.6891 - val_loss: 0.6885 - 2s/epoch - 39ms/step\n",
            "Epoch 5/100\n",
            "53/53 - 2s - loss: 0.6879 - val_loss: 0.6873 - 2s/epoch - 39ms/step\n",
            "Epoch 6/100\n",
            "53/53 - 2s - loss: 0.6867 - val_loss: 0.6860 - 2s/epoch - 38ms/step\n",
            "Epoch 7/100\n",
            "53/53 - 2s - loss: 0.6854 - val_loss: 0.6846 - 2s/epoch - 42ms/step\n",
            "Epoch 8/100\n",
            "53/53 - 3s - loss: 0.6839 - val_loss: 0.6832 - 3s/epoch - 64ms/step\n",
            "Epoch 9/100\n",
            "53/53 - 2s - loss: 0.6824 - val_loss: 0.6815 - 2s/epoch - 40ms/step\n",
            "Epoch 10/100\n",
            "53/53 - 2s - loss: 0.6806 - val_loss: 0.6795 - 2s/epoch - 39ms/step\n",
            "Epoch 11/100\n",
            "53/53 - 2s - loss: 0.6782 - val_loss: 0.6768 - 2s/epoch - 45ms/step\n",
            "Epoch 12/100\n",
            "53/53 - 3s - loss: 0.6748 - val_loss: 0.6722 - 3s/epoch - 51ms/step\n",
            "Epoch 13/100\n",
            "53/53 - 3s - loss: 0.6678 - val_loss: 0.6610 - 3s/epoch - 52ms/step\n",
            "Epoch 14/100\n",
            "53/53 - 3s - loss: 0.6418 - val_loss: 0.6030 - 3s/epoch - 56ms/step\n",
            "Epoch 15/100\n",
            "53/53 - 3s - loss: 0.4932 - val_loss: 0.3588 - 3s/epoch - 50ms/step\n",
            "Epoch 16/100\n",
            "53/53 - 2s - loss: 0.3077 - val_loss: 0.2838 - 2s/epoch - 40ms/step\n",
            "Epoch 17/100\n",
            "53/53 - 2s - loss: 0.2799 - val_loss: 0.2757 - 2s/epoch - 39ms/step\n",
            "Epoch 18/100\n",
            "53/53 - 2s - loss: 0.2748 - val_loss: 0.2724 - 2s/epoch - 39ms/step\n",
            "Epoch 19/100\n",
            "53/53 - 3s - loss: 0.2722 - val_loss: 0.2704 - 3s/epoch - 58ms/step\n",
            "Epoch 20/100\n",
            "53/53 - 3s - loss: 0.2705 - val_loss: 0.2689 - 3s/epoch - 50ms/step\n",
            "Epoch 21/100\n",
            "53/53 - 2s - loss: 0.2692 - val_loss: 0.2678 - 2s/epoch - 39ms/step\n",
            "Epoch 22/100\n",
            "53/53 - 2s - loss: 0.2682 - val_loss: 0.2669 - 2s/epoch - 39ms/step\n",
            "Epoch 23/100\n",
            "53/53 - 2s - loss: 0.2674 - val_loss: 0.2662 - 2s/epoch - 40ms/step\n",
            "Epoch 24/100\n",
            "53/53 - 2s - loss: 0.2667 - val_loss: 0.2655 - 2s/epoch - 40ms/step\n",
            "Epoch 25/100\n",
            "53/53 - 3s - loss: 0.2661 - val_loss: 0.2649 - 3s/epoch - 55ms/step\n",
            "Epoch 26/100\n",
            "53/53 - 3s - loss: 0.2656 - val_loss: 0.2644 - 3s/epoch - 52ms/step\n",
            "Epoch 27/100\n",
            "53/53 - 2s - loss: 0.2651 - val_loss: 0.2639 - 2s/epoch - 39ms/step\n",
            "Epoch 28/100\n",
            "53/53 - 2s - loss: 0.2646 - val_loss: 0.2635 - 2s/epoch - 39ms/step\n",
            "Epoch 29/100\n",
            "53/53 - 2s - loss: 0.2642 - val_loss: 0.2631 - 2s/epoch - 39ms/step\n",
            "Epoch 30/100\n",
            "53/53 - 2s - loss: 0.2638 - val_loss: 0.2627 - 2s/epoch - 39ms/step\n",
            "Epoch 31/100\n",
            "53/53 - 3s - loss: 0.2633 - val_loss: 0.2623 - 3s/epoch - 56ms/step\n",
            "Epoch 32/100\n",
            "53/53 - 3s - loss: 0.2629 - val_loss: 0.2619 - 3s/epoch - 53ms/step\n",
            "Epoch 33/100\n",
            "53/53 - 2s - loss: 0.2625 - val_loss: 0.2615 - 2s/epoch - 39ms/step\n",
            "Epoch 34/100\n",
            "53/53 - 2s - loss: 0.2622 - val_loss: 0.2612 - 2s/epoch - 39ms/step\n",
            "Epoch 35/100\n",
            "53/53 - 2s - loss: 0.2618 - val_loss: 0.2608 - 2s/epoch - 39ms/step\n",
            "Epoch 36/100\n",
            "53/53 - 2s - loss: 0.2614 - val_loss: 0.2604 - 2s/epoch - 39ms/step\n",
            "Epoch 37/100\n",
            "53/53 - 3s - loss: 0.2610 - val_loss: 0.2600 - 3s/epoch - 53ms/step\n",
            "Epoch 38/100\n",
            "53/53 - 3s - loss: 0.2606 - val_loss: 0.2597 - 3s/epoch - 54ms/step\n",
            "Epoch 39/100\n",
            "53/53 - 2s - loss: 0.2602 - val_loss: 0.2593 - 2s/epoch - 39ms/step\n",
            "Epoch 40/100\n",
            "53/53 - 2s - loss: 0.2599 - val_loss: 0.2589 - 2s/epoch - 39ms/step\n",
            "Epoch 41/100\n",
            "53/53 - 2s - loss: 0.2595 - val_loss: 0.2585 - 2s/epoch - 39ms/step\n",
            "Epoch 42/100\n",
            "53/53 - 2s - loss: 0.2591 - val_loss: 0.2582 - 2s/epoch - 40ms/step\n",
            "Epoch 43/100\n",
            "53/53 - 3s - loss: 0.2588 - val_loss: 0.2579 - 3s/epoch - 51ms/step\n",
            "Epoch 44/100\n",
            "53/53 - 3s - loss: 0.2584 - val_loss: 0.2575 - 3s/epoch - 57ms/step\n",
            "Epoch 45/100\n",
            "53/53 - 2s - loss: 0.2581 - val_loss: 0.2572 - 2s/epoch - 39ms/step\n",
            "Epoch 46/100\n",
            "53/53 - 2s - loss: 0.2577 - val_loss: 0.2568 - 2s/epoch - 39ms/step\n",
            "Epoch 47/100\n",
            "53/53 - 2s - loss: 0.2574 - val_loss: 0.2566 - 2s/epoch - 39ms/step\n",
            "Epoch 48/100\n",
            "53/53 - 2s - loss: 0.2571 - val_loss: 0.2563 - 2s/epoch - 40ms/step\n",
            "Epoch 49/100\n",
            "53/53 - 3s - loss: 0.2568 - val_loss: 0.2560 - 3s/epoch - 50ms/step\n",
            "Epoch 50/100\n",
            "53/53 - 3s - loss: 0.2565 - val_loss: 0.2558 - 3s/epoch - 57ms/step\n",
            "Epoch 51/100\n",
            "53/53 - 2s - loss: 0.2562 - val_loss: 0.2555 - 2s/epoch - 39ms/step\n",
            "Epoch 52/100\n",
            "53/53 - 2s - loss: 0.2559 - val_loss: 0.2552 - 2s/epoch - 39ms/step\n",
            "Epoch 53/100\n",
            "53/53 - 2s - loss: 0.2557 - val_loss: 0.2550 - 2s/epoch - 39ms/step\n",
            "Epoch 54/100\n",
            "53/53 - 2s - loss: 0.2554 - val_loss: 0.2548 - 2s/epoch - 39ms/step\n",
            "Epoch 55/100\n",
            "53/53 - 2s - loss: 0.2552 - val_loss: 0.2545 - 2s/epoch - 47ms/step\n",
            "Epoch 56/100\n",
            "53/53 - 3s - loss: 0.2550 - val_loss: 0.2543 - 3s/epoch - 60ms/step\n",
            "Epoch 57/100\n",
            "53/53 - 2s - loss: 0.2547 - val_loss: 0.2541 - 2s/epoch - 38ms/step\n",
            "Epoch 58/100\n",
            "53/53 - 2s - loss: 0.2545 - val_loss: 0.2540 - 2s/epoch - 39ms/step\n",
            "Epoch 59/100\n",
            "53/53 - 2s - loss: 0.2543 - val_loss: 0.2538 - 2s/epoch - 39ms/step\n",
            "Epoch 60/100\n",
            "53/53 - 2s - loss: 0.2542 - val_loss: 0.2536 - 2s/epoch - 39ms/step\n",
            "Epoch 61/100\n",
            "53/53 - 2s - loss: 0.2540 - val_loss: 0.2534 - 2s/epoch - 46ms/step\n",
            "Epoch 62/100\n",
            "53/53 - 3s - loss: 0.2538 - val_loss: 0.2533 - 3s/epoch - 62ms/step\n",
            "Epoch 63/100\n",
            "53/53 - 2s - loss: 0.2536 - val_loss: 0.2531 - 2s/epoch - 40ms/step\n",
            "Epoch 64/100\n",
            "53/53 - 2s - loss: 0.2535 - val_loss: 0.2530 - 2s/epoch - 39ms/step\n",
            "Epoch 65/100\n",
            "53/53 - 2s - loss: 0.2533 - val_loss: 0.2529 - 2s/epoch - 40ms/step\n",
            "Epoch 66/100\n",
            "53/53 - 2s - loss: 0.2532 - val_loss: 0.2527 - 2s/epoch - 39ms/step\n",
            "Epoch 67/100\n",
            "53/53 - 2s - loss: 0.2531 - val_loss: 0.2526 - 2s/epoch - 46ms/step\n",
            "Epoch 68/100\n",
            "53/53 - 3s - loss: 0.2529 - val_loss: 0.2525 - 3s/epoch - 63ms/step\n",
            "Epoch 69/100\n",
            "53/53 - 2s - loss: 0.2528 - val_loss: 0.2524 - 2s/epoch - 40ms/step\n",
            "Epoch 70/100\n",
            "53/53 - 2s - loss: 0.2527 - val_loss: 0.2523 - 2s/epoch - 40ms/step\n",
            "Epoch 71/100\n",
            "53/53 - 2s - loss: 0.2526 - val_loss: 0.2522 - 2s/epoch - 40ms/step\n",
            "Epoch 72/100\n",
            "53/53 - 2s - loss: 0.2525 - val_loss: 0.2521 - 2s/epoch - 40ms/step\n",
            "Epoch 73/100\n",
            "53/53 - 3s - loss: 0.2524 - val_loss: 0.2520 - 3s/epoch - 49ms/step\n",
            "Epoch 74/100\n",
            "53/53 - 4s - loss: 0.2523 - val_loss: 0.2519 - 4s/epoch - 73ms/step\n",
            "Epoch 75/100\n",
            "53/53 - 3s - loss: 0.2522 - val_loss: 0.2518 - 3s/epoch - 64ms/step\n",
            "Epoch 76/100\n",
            "53/53 - 2s - loss: 0.2521 - val_loss: 0.2518 - 2s/epoch - 39ms/step\n",
            "Epoch 77/100\n",
            "53/53 - 2s - loss: 0.2520 - val_loss: 0.2517 - 2s/epoch - 40ms/step\n",
            "Epoch 78/100\n",
            "53/53 - 2s - loss: 0.2519 - val_loss: 0.2516 - 2s/epoch - 41ms/step\n",
            "Epoch 79/100\n",
            "53/53 - 2s - loss: 0.2518 - val_loss: 0.2515 - 2s/epoch - 46ms/step\n",
            "Epoch 80/100\n",
            "53/53 - 3s - loss: 0.2518 - val_loss: 0.2514 - 3s/epoch - 64ms/step\n",
            "Epoch 81/100\n",
            "53/53 - 2s - loss: 0.2517 - val_loss: 0.2514 - 2s/epoch - 40ms/step\n",
            "Epoch 82/100\n",
            "53/53 - 2s - loss: 0.2516 - val_loss: 0.2513 - 2s/epoch - 40ms/step\n",
            "Epoch 83/100\n",
            "53/53 - 2s - loss: 0.2515 - val_loss: 0.2512 - 2s/epoch - 40ms/step\n",
            "Epoch 84/100\n",
            "53/53 - 2s - loss: 0.2514 - val_loss: 0.2511 - 2s/epoch - 40ms/step\n",
            "Epoch 85/100\n",
            "53/53 - 2s - loss: 0.2514 - val_loss: 0.2511 - 2s/epoch - 46ms/step\n",
            "Epoch 86/100\n",
            "53/53 - 3s - loss: 0.2513 - val_loss: 0.2510 - 3s/epoch - 62ms/step\n",
            "Epoch 87/100\n",
            "53/53 - 2s - loss: 0.2512 - val_loss: 0.2509 - 2s/epoch - 40ms/step\n",
            "Epoch 88/100\n",
            "53/53 - 2s - loss: 0.2512 - val_loss: 0.2509 - 2s/epoch - 40ms/step\n",
            "Epoch 89/100\n",
            "53/53 - 2s - loss: 0.2511 - val_loss: 0.2508 - 2s/epoch - 39ms/step\n",
            "Epoch 90/100\n",
            "53/53 - 2s - loss: 0.2510 - val_loss: 0.2507 - 2s/epoch - 40ms/step\n",
            "Epoch 91/100\n",
            "53/53 - 2s - loss: 0.2509 - val_loss: 0.2507 - 2s/epoch - 47ms/step\n",
            "Epoch 92/100\n",
            "53/53 - 3s - loss: 0.2509 - val_loss: 0.2506 - 3s/epoch - 61ms/step\n",
            "Epoch 93/100\n",
            "53/53 - 2s - loss: 0.2508 - val_loss: 0.2505 - 2s/epoch - 39ms/step\n",
            "Epoch 94/100\n",
            "53/53 - 2s - loss: 0.2507 - val_loss: 0.2505 - 2s/epoch - 39ms/step\n",
            "Epoch 95/100\n",
            "53/53 - 2s - loss: 0.2506 - val_loss: 0.2504 - 2s/epoch - 40ms/step\n",
            "Epoch 96/100\n",
            "53/53 - 2s - loss: 0.2506 - val_loss: 0.2503 - 2s/epoch - 39ms/step\n",
            "Epoch 97/100\n",
            "53/53 - 2s - loss: 0.2505 - val_loss: 0.2503 - 2s/epoch - 45ms/step\n",
            "Epoch 98/100\n",
            "53/53 - 3s - loss: 0.2504 - val_loss: 0.2502 - 3s/epoch - 65ms/step\n",
            "Epoch 99/100\n",
            "53/53 - 2s - loss: 0.2503 - val_loss: 0.2501 - 2s/epoch - 39ms/step\n",
            "Epoch 100/100\n",
            "53/53 - 2s - loss: 0.2502 - val_loss: 0.2500 - 2s/epoch - 39ms/step\n",
            "Training Took 263.3775746822357 Secs\n"
          ]
        }
      ],
      "source": [
        "from time import time\n",
        "tic = time()\n",
        "Autoencoder.fit(x_train, x_train,\n",
        "                epochs=100,\n",
        "                verbose=2,\n",
        "                batch_size=1024,\n",
        "                shuffle=True, validation_split = 0.1)\n",
        "                #validation_data=(x_test, x_test))\n",
        "toc = time()\n",
        "print(\"Training Took {} Secs\".format(toc-tic))"
      ]
    },
    {
      "cell_type": "code",
      "execution_count": 11,
      "metadata": {
        "colab": {
          "base_uri": "https://localhost:8080/",
          "height": 281
        },
        "id": "dFH-EZtE-qvV",
        "outputId": "84281d92-eff4-4287-b653-e6dc3573058c"
      },
      "outputs": [
        {
          "output_type": "stream",
          "name": "stdout",
          "text": [
            "313/313 [==============================] - 1s 2ms/step\n",
            "Reduced Image Representation shape achieved Through Encoder Part: (10000, 20)\n",
            "313/313 [==============================] - 1s 2ms/step\n",
            "Recreated image Representation of Shape (10000, 784) using Decoder and reduced Image representation of shape (10000, 20)\n"
          ]
        },
        {
          "output_type": "display_data",
          "data": {
            "text/plain": [
              "<Figure size 2000x400 with 20 Axes>"
            ],
            "image/png": "[encoded data removed]"
          },
          "metadata": {}
        }
      ],
      "source": [
        "#encoded_imgs = encoder_l.predict(x_test)\n",
        "encoded_imgs = encoder_vn.predict(x_test)\n",
        "print(\"Reduced Image Representation shape achieved Through Encoder Part: {}\".format(encoded_imgs.shape))\n",
        "#decoded_imgs = decoder_l.predict(encoded_imgs)\n",
        "decoded_imgs = decoder_vn.predict(encoded_imgs)\n",
        "print(\"Recreated image Representation of Shape {} using Decoder and reduced Image representation of shape {}\".format (decoded_imgs.shape, encoded_imgs.shape))\n",
        "n = 10  # how many digits we will display\n",
        "k = 9 #multiplier\n",
        "plt.figure(figsize=(20, 4))\n",
        "for i in range(n):\n",
        "    # display original\n",
        "    ax = plt.subplot(2, n, i + 1)\n",
        "    plt.imshow(x_test[i*k].reshape(28, 28))\n",
        "    plt.gray()\n",
        "    ax.get_xaxis().set_visible(False)\n",
        "    ax.get_yaxis().set_visible(False)\n",
        "\n",
        "    # display reconstruction\n",
        "    ax = plt.subplot(2, n, i + 1 + n)\n",
        "    plt.imshow(decoded_imgs[i*k].reshape(28, 28))\n",
        "    plt.gray()\n",
        "    ax.get_xaxis().set_visible(False)\n",
        "    ax.get_yaxis().set_visible(False)\n",
        "plt.show()"
      ]
    },
    {
      "cell_type": "code",
      "execution_count": 12,
      "metadata": {
        "id": "q6GIpzGy-t38"
      },
      "outputs": [],
      "source": [
        "from tensorflow.keras.layers import Input, Conv2D, MaxPooling2D, UpSampling2D, Flatten, Reshape\n",
        "from tensorflow.keras.models import Model"
      ]
    },
    {
      "cell_type": "code",
      "execution_count": 13,
      "metadata": {
        "colab": {
          "base_uri": "https://localhost:8080/"
        },
        "id": "l9RFkbY8-xWi",
        "outputId": "a33c1c47-2f27-48e2-f2dc-789f179a7721"
      },
      "outputs": [
        {
          "output_type": "stream",
          "name": "stdout",
          "text": [
            "Model: \"model_3\"\n",
            "_________________________________________________________________\n",
            " Layer (type)                Output Shape              Param #   \n",
            "=================================================================\n",
            " input_3 (InputLayer)        [(None, 28, 28, 1)]       0         \n",
            "                                                                 \n",
            " conv2d (Conv2D)             (None, 28, 28, 32)        320       \n",
            "                                                                 \n",
            " max_pooling2d (MaxPooling2  (None, 14, 14, 32)        0         \n",
            " D)                                                              \n",
            "                                                                 \n",
            " conv2d_1 (Conv2D)           (None, 14, 14, 32)        9248      \n",
            "                                                                 \n",
            " max_pooling2d_1 (MaxPoolin  (None, 7, 7, 32)          0         \n",
            " g2D)                                                            \n",
            "                                                                 \n",
            " conv2d_2 (Conv2D)           (None, 7, 7, 4)           1156      \n",
            "                                                                 \n",
            " max_pooling2d_2 (MaxPoolin  (None, 4, 4, 4)           0         \n",
            " g2D)                                                            \n",
            "                                                                 \n",
            " bot (Flatten)               (None, 64)                0         \n",
            "                                                                 \n",
            " botnext0 (Reshape)          (None, 4, 4, 4)           0         \n",
            "                                                                 \n",
            " botnext1 (Conv2D)           (None, 4, 4, 4)           148       \n",
            "                                                                 \n",
            " botnext2 (UpSampling2D)     (None, 8, 8, 4)           0         \n",
            "                                                                 \n",
            " botnext3 (Conv2D)           (None, 8, 8, 32)          1184      \n",
            "                                                                 \n",
            " botnext4 (UpSampling2D)     (None, 16, 16, 32)        0         \n",
            "                                                                 \n",
            " botnext5 (Conv2D)           (None, 14, 14, 32)        9248      \n",
            "                                                                 \n",
            " botnext6 (UpSampling2D)     (None, 28, 28, 32)        0         \n",
            "                                                                 \n",
            " botnext7 (Conv2D)           (None, 28, 28, 1)         289       \n",
            "                                                                 \n",
            "=================================================================\n",
            "Total params: 21593 (84.35 KB)\n",
            "Trainable params: 21593 (84.35 KB)\n",
            "Non-trainable params: 0 (0.00 Byte)\n",
            "_________________________________________________________________\n"
          ]
        }
      ],
      "source": [
        "input_layer_cnv = Input(shape = (28,28,1))\n",
        "ae_cnv_en = Conv2D (32, (3,3), activation = \"relu\", padding = \"same\", kernel_initializer=\"he_normal\")(input_layer_cnv)\n",
        "ae_cnv_en = MaxPooling2D ((2,2), padding=\"same\")(ae_cnv_en)\n",
        "\n",
        "ae_cnv_en = Conv2D (32, (3,3), activation = \"relu\", padding = \"same\")(ae_cnv_en)\n",
        "ae_cnv_en = MaxPooling2D ((2,2), padding=\"same\")(ae_cnv_en)\n",
        "\n",
        "ae_cnv_en = Conv2D (4, (3,3), activation = \"relu\", padding = \"same\")(ae_cnv_en)\n",
        "ae_cnv_en = MaxPooling2D ((2,2), padding=\"same\")(ae_cnv_en)\n",
        "\n",
        "ae_cnv_en = Flatten(name = \"bot\")(ae_cnv_en)\n",
        "\n",
        "ae_cnv_de = Reshape((4,4,4), input_shape= (64,), name= \"botnext0\")(ae_cnv_en)\n",
        "ae_cnv_de = Conv2D (4, (3,3), activation = \"relu\", padding = \"same\",name= \"botnext1\")(ae_cnv_de)\n",
        "ae_cnv_de = UpSampling2D ((2,2),name= \"botnext2\")(ae_cnv_de)\n",
        "\n",
        "ae_cnv_de = Conv2D (32, (3,3), activation = \"relu\", padding = \"same\", name= \"botnext3\")(ae_cnv_de)\n",
        "ae_cnv_de = UpSampling2D ((2,2), name= \"botnext4\")(ae_cnv_de)\n",
        "\n",
        "ae_cnv_de = Conv2D (32, (3,3), activation = \"relu\", padding = \"valid\",name= \"botnext5\")(ae_cnv_de)\n",
        "ae_cnv_de = UpSampling2D ((2,2), name= \"botnext6\")(ae_cnv_de)\n",
        "\n",
        "ae_cnv_de = Conv2D (1, (3,3), activation = \"sigmoid\", padding = \"same\",name = \"botnext7\")(ae_cnv_de)\n",
        "Ae_Conv = Model(inputs = input_layer_cnv, outputs = ae_cnv_de)\n",
        "\n",
        "Ae_Conv.compile(optimizer=tf.keras.optimizers.SGD(0.09,clipvalue=2.5), loss='binary_crossentropy', metrics = [\"accuracy\"])\n",
        "# Ae_Conv.compile(optimizer=tf.keras.optimizers.Adadelta(0.1,clipvalue=2), loss='binary_crossentropy', metrics = [\"accuracy\"])\n",
        "Ae_Conv.summary()"
      ]
    },
    {
      "cell_type": "code",
      "execution_count": 14,
      "metadata": {
        "colab": {
          "base_uri": "https://localhost:8080/"
        },
        "id": "AaMMhoLh-02o",
        "outputId": "2fc33b93-eb73-4ea1-f615-7e1780248279"
      },
      "outputs": [
        {
          "output_type": "stream",
          "name": "stdout",
          "text": [
            "Model: \"Conv_AE_encoder\"\n",
            "_________________________________________________________________\n",
            " Layer (type)                Output Shape              Param #   \n",
            "=================================================================\n",
            " input_3 (InputLayer)        [(None, 28, 28, 1)]       0         \n",
            "                                                                 \n",
            " conv2d (Conv2D)             (None, 28, 28, 32)        320       \n",
            "                                                                 \n",
            " max_pooling2d (MaxPooling2  (None, 14, 14, 32)        0         \n",
            " D)                                                              \n",
            "                                                                 \n",
            " conv2d_1 (Conv2D)           (None, 14, 14, 32)        9248      \n",
            "                                                                 \n",
            " max_pooling2d_1 (MaxPoolin  (None, 7, 7, 32)          0         \n",
            " g2D)                                                            \n",
            "                                                                 \n",
            " conv2d_2 (Conv2D)           (None, 7, 7, 4)           1156      \n",
            "                                                                 \n",
            " max_pooling2d_2 (MaxPoolin  (None, 4, 4, 4)           0         \n",
            " g2D)                                                            \n",
            "                                                                 \n",
            " bot (Flatten)               (None, 64)                0         \n",
            "                                                                 \n",
            "=================================================================\n",
            "Total params: 10724 (41.89 KB)\n",
            "Trainable params: 10724 (41.89 KB)\n",
            "Non-trainable params: 0 (0.00 Byte)\n",
            "_________________________________________________________________\n"
          ]
        }
      ],
      "source": [
        "ae_conv_encoder = Model (inputs = input_layer_cnv, outputs = Ae_Conv.get_layer(\"bot\").output, name = \"Conv_AE_encoder\")\n",
        "ae_conv_encoder.summary()"
      ]
    },
    {
      "cell_type": "code",
      "execution_count": 15,
      "metadata": {
        "colab": {
          "base_uri": "https://localhost:8080/"
        },
        "id": "twGJx7Zf-3Ue",
        "outputId": "880f4832-f751-4240-b052-1303ee2add72"
      },
      "outputs": [
        {
          "output_type": "stream",
          "name": "stdout",
          "text": [
            "Model: \"Conv_AE_decoder\"\n",
            "_________________________________________________________________\n",
            " Layer (type)                Output Shape              Param #   \n",
            "=================================================================\n",
            " input_4 (InputLayer)        [(None, 64)]              0         \n",
            "                                                                 \n",
            " botnext0 (Reshape)          (None, 4, 4, 4)           0         \n",
            "                                                                 \n",
            " botnext1 (Conv2D)           (None, 4, 4, 4)           148       \n",
            "                                                                 \n",
            " botnext2 (UpSampling2D)     (None, 8, 8, 4)           0         \n",
            "                                                                 \n",
            " botnext3 (Conv2D)           (None, 8, 8, 32)          1184      \n",
            "                                                                 \n",
            " botnext4 (UpSampling2D)     (None, 16, 16, 32)        0         \n",
            "                                                                 \n",
            " botnext5 (Conv2D)           (None, 14, 14, 32)        9248      \n",
            "                                                                 \n",
            " botnext6 (UpSampling2D)     (None, 28, 28, 32)        0         \n",
            "                                                                 \n",
            " botnext7 (Conv2D)           (None, 28, 28, 1)         289       \n",
            "                                                                 \n",
            "=================================================================\n",
            "Total params: 10869 (42.46 KB)\n",
            "Trainable params: 10869 (42.46 KB)\n",
            "Non-trainable params: 0 (0.00 Byte)\n",
            "_________________________________________________________________\n"
          ]
        }
      ],
      "source": [
        "# Traversing through the Layers of Decoder using Loop\n",
        "\n",
        "encode_inp_cnv = Input(shape = (64,))\n",
        "tmp_dec = Ae_Conv.get_layer(\"botnext0\")(encode_inp_cnv)\n",
        "for i in range(1,8):\n",
        "  st = \"botnext{}\".format(i)\n",
        "  tmp_dec = Ae_Conv.get_layer(st)(tmp_dec)\n",
        "\n",
        "ae_conv_decoder = Model(inputs = encode_inp_cnv, outputs = tmp_dec, name= \"Conv_AE_decoder\")\n",
        "ae_conv_decoder.summary()"
      ]
    },
    {
      "cell_type": "code",
      "execution_count": 16,
      "metadata": {
        "colab": {
          "base_uri": "https://localhost:8080/"
        },
        "id": "lYCg2lAq-5tw",
        "outputId": "839601c8-7887-4d04-b90b-725deed82c50"
      },
      "outputs": [
        {
          "output_type": "stream",
          "name": "stdout",
          "text": [
            "(60000, 28, 28, 1) (10000, 28, 28, 1)\n"
          ]
        }
      ],
      "source": [
        "x_train = x_train.reshape(x_train.shape[0], 28,28,1)\n",
        "x_test = x_test.reshape(x_test.shape[0], 28,28,1)\n",
        "print(x_train.shape, x_test.shape)"
      ]
    },
    {
      "cell_type": "code",
      "execution_count": 17,
      "metadata": {
        "colab": {
          "base_uri": "https://localhost:8080/"
        },
        "id": "IQhy__Yc-7UN",
        "outputId": "1a97343c-0abf-442a-aa81-db9cf8bbd74d"
      },
      "outputs": [
        {
          "output_type": "stream",
          "name": "stdout",
          "text": [
            "Epoch 1/100\n",
            "53/53 - 110s - loss: 0.3974 - accuracy: 0.7878 - val_loss: 0.2684 - val_accuracy: 0.8088 - 110s/epoch - 2s/step\n",
            "Epoch 2/100\n",
            "53/53 - 106s - loss: 0.2551 - accuracy: 0.7992 - val_loss: 0.2390 - val_accuracy: 0.7851 - 106s/epoch - 2s/step\n",
            "Epoch 3/100\n",
            "53/53 - 108s - loss: 0.2282 - accuracy: 0.7891 - val_loss: 0.2190 - val_accuracy: 0.8002 - 108s/epoch - 2s/step\n",
            "Epoch 4/100\n",
            "53/53 - 110s - loss: 0.2134 - accuracy: 0.7880 - val_loss: 0.2078 - val_accuracy: 0.7806 - 110s/epoch - 2s/step\n",
            "Epoch 5/100\n",
            "53/53 - 106s - loss: 0.2045 - accuracy: 0.7892 - val_loss: 0.2020 - val_accuracy: 0.8015 - 106s/epoch - 2s/step\n",
            "Epoch 6/100\n",
            "53/53 - 110s - loss: 0.1976 - accuracy: 0.7911 - val_loss: 0.1931 - val_accuracy: 0.7868 - 110s/epoch - 2s/step\n",
            "Epoch 7/100\n",
            "53/53 - 106s - loss: 0.1931 - accuracy: 0.7920 - val_loss: 0.1923 - val_accuracy: 0.8030 - 106s/epoch - 2s/step\n",
            "Epoch 8/100\n",
            "53/53 - 108s - loss: 0.1879 - accuracy: 0.7934 - val_loss: 0.1838 - val_accuracy: 0.7897 - 108s/epoch - 2s/step\n",
            "Epoch 9/100\n",
            "53/53 - 106s - loss: 0.1847 - accuracy: 0.7940 - val_loss: 0.1847 - val_accuracy: 0.8038 - 106s/epoch - 2s/step\n",
            "Epoch 10/100\n",
            "53/53 - 107s - loss: 0.1802 - accuracy: 0.7951 - val_loss: 0.1765 - val_accuracy: 0.7920 - 107s/epoch - 2s/step\n",
            "Epoch 11/100\n",
            "53/53 - 105s - loss: 0.1778 - accuracy: 0.7955 - val_loss: 0.1785 - val_accuracy: 0.8041 - 105s/epoch - 2s/step\n",
            "Epoch 12/100\n",
            "53/53 - 109s - loss: 0.1741 - accuracy: 0.7963 - val_loss: 0.1714 - val_accuracy: 0.7936 - 109s/epoch - 2s/step\n",
            "Epoch 13/100\n",
            "53/53 - 105s - loss: 0.1727 - accuracy: 0.7964 - val_loss: 0.1739 - val_accuracy: 0.8043 - 105s/epoch - 2s/step\n",
            "Epoch 14/100\n",
            "53/53 - 107s - loss: 0.1696 - accuracy: 0.7971 - val_loss: 0.1675 - val_accuracy: 0.7946 - 107s/epoch - 2s/step\n",
            "Epoch 15/100\n",
            "53/53 - 106s - loss: 0.1690 - accuracy: 0.7971 - val_loss: 0.1703 - val_accuracy: 0.8044 - 106s/epoch - 2s/step\n",
            "Epoch 16/100\n",
            "53/53 - 109s - loss: 0.1662 - accuracy: 0.7977 - val_loss: 0.1643 - val_accuracy: 0.7955 - 109s/epoch - 2s/step\n",
            "Epoch 17/100\n",
            "53/53 - 106s - loss: 0.1661 - accuracy: 0.7977 - val_loss: 0.1674 - val_accuracy: 0.8047 - 106s/epoch - 2s/step\n",
            "Epoch 18/100\n",
            "53/53 - 108s - loss: 0.1634 - accuracy: 0.7983 - val_loss: 0.1616 - val_accuracy: 0.7963 - 108s/epoch - 2s/step\n",
            "Epoch 19/100\n",
            "53/53 - 106s - loss: 0.1636 - accuracy: 0.7982 - val_loss: 0.1652 - val_accuracy: 0.8050 - 106s/epoch - 2s/step\n",
            "Epoch 20/100\n",
            "53/53 - 111s - loss: 0.1610 - accuracy: 0.7988 - val_loss: 0.1592 - val_accuracy: 0.7971 - 111s/epoch - 2s/step\n",
            "Epoch 21/100\n",
            "53/53 - 106s - loss: 0.1614 - accuracy: 0.7987 - val_loss: 0.1633 - val_accuracy: 0.8054 - 106s/epoch - 2s/step\n",
            "Epoch 22/100\n",
            "53/53 - 108s - loss: 0.1588 - accuracy: 0.7993 - val_loss: 0.1567 - val_accuracy: 0.7980 - 108s/epoch - 2s/step\n",
            "Epoch 23/100\n",
            "53/53 - 108s - loss: 0.1595 - accuracy: 0.7992 - val_loss: 0.1614 - val_accuracy: 0.8057 - 108s/epoch - 2s/step\n",
            "Epoch 24/100\n",
            "53/53 - 109s - loss: 0.1569 - accuracy: 0.7997 - val_loss: 0.1544 - val_accuracy: 0.7989 - 109s/epoch - 2s/step\n",
            "Epoch 25/100\n",
            "53/53 - 105s - loss: 0.1577 - accuracy: 0.7996 - val_loss: 0.1601 - val_accuracy: 0.8060 - 105s/epoch - 2s/step\n",
            "Epoch 26/100\n",
            "53/53 - 107s - loss: 0.1551 - accuracy: 0.8002 - val_loss: 0.1538 - val_accuracy: 0.8004 - 107s/epoch - 2s/step\n",
            "Epoch 27/100\n",
            "53/53 - 108s - loss: 0.1559 - accuracy: 0.8000 - val_loss: 0.1540 - val_accuracy: 0.7979 - 108s/epoch - 2s/step\n",
            "Epoch 28/100\n",
            "53/53 - 108s - loss: 0.1552 - accuracy: 0.8003 - val_loss: 0.1571 - val_accuracy: 0.8064 - 108s/epoch - 2s/step\n",
            "Epoch 29/100\n",
            "53/53 - 106s - loss: 0.1527 - accuracy: 0.8008 - val_loss: 0.1507 - val_accuracy: 0.8001 - 106s/epoch - 2s/step\n",
            "Epoch 30/100\n",
            "53/53 - 110s - loss: 0.1540 - accuracy: 0.8006 - val_loss: 0.1562 - val_accuracy: 0.8069 - 110s/epoch - 2s/step\n",
            "Epoch 31/100\n",
            "53/53 - 109s - loss: 0.1512 - accuracy: 0.8012 - val_loss: 0.1486 - val_accuracy: 0.8011 - 109s/epoch - 2s/step\n",
            "Epoch 32/100\n",
            "53/53 - 107s - loss: 0.1525 - accuracy: 0.8010 - val_loss: 0.1541 - val_accuracy: 0.8071 - 107s/epoch - 2s/step\n",
            "Epoch 33/100\n",
            "53/53 - 105s - loss: 0.1508 - accuracy: 0.8014 - val_loss: 0.1499 - val_accuracy: 0.8046 - 105s/epoch - 2s/step\n",
            "Epoch 34/100\n",
            "53/53 - 107s - loss: 0.1503 - accuracy: 0.8014 - val_loss: 0.1482 - val_accuracy: 0.8026 - 107s/epoch - 2s/step\n",
            "Epoch 35/100\n",
            "53/53 - 108s - loss: 0.1506 - accuracy: 0.8015 - val_loss: 0.1528 - val_accuracy: 0.8077 - 108s/epoch - 2s/step\n",
            "Epoch 36/100\n",
            "53/53 - 107s - loss: 0.1485 - accuracy: 0.8020 - val_loss: 0.1471 - val_accuracy: 0.8033 - 107s/epoch - 2s/step\n",
            "Epoch 37/100\n",
            "53/53 - 105s - loss: 0.1484 - accuracy: 0.8020 - val_loss: 0.1450 - val_accuracy: 0.8031 - 105s/epoch - 2s/step\n",
            "Epoch 38/100\n",
            "53/53 - 108s - loss: 0.1490 - accuracy: 0.8020 - val_loss: 0.1506 - val_accuracy: 0.8079 - 108s/epoch - 2s/step\n",
            "Epoch 39/100\n",
            "53/53 - 106s - loss: 0.1466 - accuracy: 0.8025 - val_loss: 0.1454 - val_accuracy: 0.8035 - 106s/epoch - 2s/step\n",
            "Epoch 40/100\n",
            "53/53 - 111s - loss: 0.1465 - accuracy: 0.8025 - val_loss: 0.1433 - val_accuracy: 0.8048 - 111s/epoch - 2s/step\n",
            "Epoch 41/100\n",
            "53/53 - 106s - loss: 0.1461 - accuracy: 0.8026 - val_loss: 0.1448 - val_accuracy: 0.8073 - 106s/epoch - 2s/step\n",
            "Epoch 42/100\n",
            "53/53 - 108s - loss: 0.1461 - accuracy: 0.8029 - val_loss: 0.1429 - val_accuracy: 0.8022 - 108s/epoch - 2s/step\n",
            "Epoch 43/100\n",
            "53/53 - 106s - loss: 0.1457 - accuracy: 0.8029 - val_loss: 0.1476 - val_accuracy: 0.8084 - 106s/epoch - 2s/step\n",
            "Epoch 44/100\n",
            "53/53 - 109s - loss: 0.1437 - accuracy: 0.8034 - val_loss: 0.1432 - val_accuracy: 0.8021 - 109s/epoch - 2s/step\n",
            "Epoch 45/100\n",
            "53/53 - 109s - loss: 0.1446 - accuracy: 0.8032 - val_loss: 0.1464 - val_accuracy: 0.8087 - 109s/epoch - 2s/step\n",
            "Epoch 46/100\n",
            "53/53 - 108s - loss: 0.1430 - accuracy: 0.8036 - val_loss: 0.1413 - val_accuracy: 0.8045 - 108s/epoch - 2s/step\n",
            "Epoch 47/100\n",
            "53/53 - 106s - loss: 0.1427 - accuracy: 0.8036 - val_loss: 0.1452 - val_accuracy: 0.8089 - 106s/epoch - 2s/step\n",
            "Epoch 48/100\n",
            "53/53 - 108s - loss: 0.1428 - accuracy: 0.8038 - val_loss: 0.1399 - val_accuracy: 0.8040 - 108s/epoch - 2s/step\n",
            "Epoch 49/100\n",
            "53/53 - 108s - loss: 0.1428 - accuracy: 0.8037 - val_loss: 0.1442 - val_accuracy: 0.8090 - 108s/epoch - 2s/step\n",
            "Epoch 50/100\n",
            "53/53 - 108s - loss: 0.1408 - accuracy: 0.8042 - val_loss: 0.1396 - val_accuracy: 0.8034 - 108s/epoch - 2s/step\n",
            "Epoch 51/100\n",
            "53/53 - 106s - loss: 0.1416 - accuracy: 0.8040 - val_loss: 0.1430 - val_accuracy: 0.8091 - 106s/epoch - 2s/step\n",
            "Epoch 52/100\n",
            "53/53 - 110s - loss: 0.1399 - accuracy: 0.8044 - val_loss: 0.1385 - val_accuracy: 0.8042 - 110s/epoch - 2s/step\n",
            "Epoch 53/100\n",
            "53/53 - 105s - loss: 0.1407 - accuracy: 0.8042 - val_loss: 0.1419 - val_accuracy: 0.8092 - 105s/epoch - 2s/step\n",
            "Epoch 54/100\n",
            "53/53 - 108s - loss: 0.1391 - accuracy: 0.8047 - val_loss: 0.1375 - val_accuracy: 0.8042 - 108s/epoch - 2s/step\n",
            "Epoch 55/100\n",
            "53/53 - 106s - loss: 0.1398 - accuracy: 0.8045 - val_loss: 0.1409 - val_accuracy: 0.8094 - 106s/epoch - 2s/step\n",
            "Epoch 56/100\n",
            "53/53 - 110s - loss: 0.1382 - accuracy: 0.8049 - val_loss: 0.1368 - val_accuracy: 0.8042 - 110s/epoch - 2s/step\n",
            "Epoch 57/100\n",
            "53/53 - 106s - loss: 0.1389 - accuracy: 0.8047 - val_loss: 0.1399 - val_accuracy: 0.8094 - 106s/epoch - 2s/step\n",
            "Epoch 58/100\n",
            "53/53 - 108s - loss: 0.1375 - accuracy: 0.8051 - val_loss: 0.1359 - val_accuracy: 0.8046 - 108s/epoch - 2s/step\n",
            "Epoch 59/100\n",
            "53/53 - 109s - loss: 0.1382 - accuracy: 0.8049 - val_loss: 0.1389 - val_accuracy: 0.8095 - 109s/epoch - 2s/step\n",
            "Epoch 60/100\n",
            "53/53 - 109s - loss: 0.1367 - accuracy: 0.8053 - val_loss: 0.1353 - val_accuracy: 0.8045 - 109s/epoch - 2s/step\n",
            "Epoch 61/100\n",
            "53/53 - 107s - loss: 0.1373 - accuracy: 0.8051 - val_loss: 0.1380 - val_accuracy: 0.8096 - 107s/epoch - 2s/step\n",
            "Epoch 62/100\n",
            "53/53 - 106s - loss: 0.1361 - accuracy: 0.8054 - val_loss: 0.1344 - val_accuracy: 0.8046 - 106s/epoch - 2s/step\n",
            "Epoch 63/100\n",
            "53/53 - 111s - loss: 0.1365 - accuracy: 0.8053 - val_loss: 0.1371 - val_accuracy: 0.8097 - 111s/epoch - 2s/step\n",
            "Epoch 64/100\n",
            "53/53 - 105s - loss: 0.1354 - accuracy: 0.8056 - val_loss: 0.1337 - val_accuracy: 0.8047 - 105s/epoch - 2s/step\n",
            "Epoch 65/100\n",
            "53/53 - 108s - loss: 0.1357 - accuracy: 0.8055 - val_loss: 0.1362 - val_accuracy: 0.8098 - 108s/epoch - 2s/step\n",
            "Epoch 66/100\n",
            "53/53 - 106s - loss: 0.1348 - accuracy: 0.8058 - val_loss: 0.1330 - val_accuracy: 0.8049 - 106s/epoch - 2s/step\n",
            "Epoch 67/100\n",
            "53/53 - 111s - loss: 0.1351 - accuracy: 0.8056 - val_loss: 0.1355 - val_accuracy: 0.8099 - 111s/epoch - 2s/step\n",
            "Epoch 68/100\n",
            "53/53 - 106s - loss: 0.1341 - accuracy: 0.8059 - val_loss: 0.1323 - val_accuracy: 0.8050 - 106s/epoch - 2s/step\n",
            "Epoch 69/100\n",
            "53/53 - 107s - loss: 0.1344 - accuracy: 0.8058 - val_loss: 0.1347 - val_accuracy: 0.8099 - 107s/epoch - 2s/step\n",
            "Epoch 70/100\n",
            "53/53 - 106s - loss: 0.1335 - accuracy: 0.8061 - val_loss: 0.1316 - val_accuracy: 0.8053 - 106s/epoch - 2s/step\n",
            "Epoch 71/100\n",
            "53/53 - 110s - loss: 0.1338 - accuracy: 0.8059 - val_loss: 0.1339 - val_accuracy: 0.8100 - 110s/epoch - 2s/step\n",
            "Epoch 72/100\n",
            "53/53 - 107s - loss: 0.1329 - accuracy: 0.8062 - val_loss: 0.1311 - val_accuracy: 0.8054 - 107s/epoch - 2s/step\n",
            "Epoch 73/100\n",
            "53/53 - 108s - loss: 0.1332 - accuracy: 0.8061 - val_loss: 0.1332 - val_accuracy: 0.8100 - 108s/epoch - 2s/step\n",
            "Epoch 74/100\n",
            "53/53 - 106s - loss: 0.1323 - accuracy: 0.8063 - val_loss: 0.1307 - val_accuracy: 0.8053 - 106s/epoch - 2s/step\n",
            "Epoch 75/100\n",
            "53/53 - 110s - loss: 0.1326 - accuracy: 0.8062 - val_loss: 0.1325 - val_accuracy: 0.8101 - 110s/epoch - 2s/step\n",
            "Epoch 76/100\n",
            "53/53 - 108s - loss: 0.1317 - accuracy: 0.8064 - val_loss: 0.1300 - val_accuracy: 0.8056 - 108s/epoch - 2s/step\n",
            "Epoch 77/100\n",
            "53/53 - 106s - loss: 0.1321 - accuracy: 0.8063 - val_loss: 0.1320 - val_accuracy: 0.8102 - 106s/epoch - 2s/step\n",
            "Epoch 78/100\n",
            "53/53 - 108s - loss: 0.1312 - accuracy: 0.8066 - val_loss: 0.1297 - val_accuracy: 0.8055 - 108s/epoch - 2s/step\n",
            "Epoch 79/100\n",
            "53/53 - 109s - loss: 0.1314 - accuracy: 0.8064 - val_loss: 0.1313 - val_accuracy: 0.8102 - 109s/epoch - 2s/step\n",
            "Epoch 80/100\n",
            "53/53 - 113s - loss: 0.1306 - accuracy: 0.8067 - val_loss: 0.1291 - val_accuracy: 0.8057 - 113s/epoch - 2s/step\n",
            "Epoch 81/100\n",
            "53/53 - 110s - loss: 0.1310 - accuracy: 0.8065 - val_loss: 0.1309 - val_accuracy: 0.8103 - 110s/epoch - 2s/step\n",
            "Epoch 82/100\n",
            "53/53 - 114s - loss: 0.1302 - accuracy: 0.8068 - val_loss: 0.1287 - val_accuracy: 0.8057 - 114s/epoch - 2s/step\n",
            "Epoch 83/100\n",
            "53/53 - 112s - loss: 0.1304 - accuracy: 0.8067 - val_loss: 0.1304 - val_accuracy: 0.8103 - 112s/epoch - 2s/step\n",
            "Epoch 84/100\n",
            "53/53 - 111s - loss: 0.1296 - accuracy: 0.8069 - val_loss: 0.1282 - val_accuracy: 0.8059 - 111s/epoch - 2s/step\n",
            "Epoch 85/100\n",
            "53/53 - 110s - loss: 0.1300 - accuracy: 0.8068 - val_loss: 0.1299 - val_accuracy: 0.8104 - 110s/epoch - 2s/step\n",
            "Epoch 86/100\n",
            "53/53 - 109s - loss: 0.1292 - accuracy: 0.8070 - val_loss: 0.1277 - val_accuracy: 0.8060 - 109s/epoch - 2s/step\n",
            "Epoch 87/100\n",
            "53/53 - 108s - loss: 0.1294 - accuracy: 0.8069 - val_loss: 0.1292 - val_accuracy: 0.8104 - 108s/epoch - 2s/step\n",
            "Epoch 88/100\n",
            "53/53 - 108s - loss: 0.1287 - accuracy: 0.8071 - val_loss: 0.1272 - val_accuracy: 0.8061 - 108s/epoch - 2s/step\n",
            "Epoch 89/100\n",
            "53/53 - 108s - loss: 0.1290 - accuracy: 0.8070 - val_loss: 0.1287 - val_accuracy: 0.8104 - 108s/epoch - 2s/step\n",
            "Epoch 90/100\n",
            "53/53 - 106s - loss: 0.1283 - accuracy: 0.8072 - val_loss: 0.1268 - val_accuracy: 0.8062 - 106s/epoch - 2s/step\n",
            "Epoch 91/100\n",
            "53/53 - 108s - loss: 0.1285 - accuracy: 0.8071 - val_loss: 0.1282 - val_accuracy: 0.8105 - 108s/epoch - 2s/step\n",
            "Epoch 92/100\n",
            "53/53 - 106s - loss: 0.1279 - accuracy: 0.8072 - val_loss: 0.1264 - val_accuracy: 0.8062 - 106s/epoch - 2s/step\n",
            "Epoch 93/100\n",
            "53/53 - 112s - loss: 0.1281 - accuracy: 0.8071 - val_loss: 0.1277 - val_accuracy: 0.8105 - 112s/epoch - 2s/step\n",
            "Epoch 94/100\n",
            "53/53 - 107s - loss: 0.1275 - accuracy: 0.8073 - val_loss: 0.1260 - val_accuracy: 0.8063 - 107s/epoch - 2s/step\n",
            "Epoch 95/100\n",
            "53/53 - 109s - loss: 0.1276 - accuracy: 0.8072 - val_loss: 0.1272 - val_accuracy: 0.8105 - 109s/epoch - 2s/step\n",
            "Epoch 96/100\n",
            "53/53 - 109s - loss: 0.1271 - accuracy: 0.8074 - val_loss: 0.1255 - val_accuracy: 0.8063 - 109s/epoch - 2s/step\n",
            "Epoch 97/100\n",
            "53/53 - 109s - loss: 0.1272 - accuracy: 0.8073 - val_loss: 0.1268 - val_accuracy: 0.8106 - 109s/epoch - 2s/step\n",
            "Epoch 98/100\n",
            "53/53 - 108s - loss: 0.1267 - accuracy: 0.8075 - val_loss: 0.1251 - val_accuracy: 0.8064 - 108s/epoch - 2s/step\n",
            "Epoch 99/100\n",
            "53/53 - 106s - loss: 0.1268 - accuracy: 0.8074 - val_loss: 0.1263 - val_accuracy: 0.8106 - 106s/epoch - 2s/step\n",
            "Epoch 100/100\n",
            "53/53 - 109s - loss: 0.1264 - accuracy: 0.8076 - val_loss: 0.1247 - val_accuracy: 0.8065 - 109s/epoch - 2s/step\n",
            "Training Took 10823.481443166733 Secs\n"
          ]
        }
      ],
      "source": [
        "from time import time\n",
        "tic = time()\n",
        "Ae_Conv.fit(x_train,x_train, epochs = 100, verbose = 2, batch_size = 1024, shuffle = False, validation_split = 0.1)\n",
        "toc = time()\n",
        "print(\"Training Took {} Secs\".format(toc-tic))"
      ]
    },
    {
      "cell_type": "code",
      "execution_count": 18,
      "metadata": {
        "id": "75BVRLs3-9a0",
        "colab": {
          "base_uri": "https://localhost:8080/"
        },
        "outputId": "e0ff0bf7-70eb-4b17-d236-c596020ff42b"
      },
      "outputs": [
        {
          "output_type": "stream",
          "name": "stdout",
          "text": [
            "313/313 [==============================] - 3s 8ms/step\n",
            "(10000, 64)\n"
          ]
        }
      ],
      "source": [
        "encoded_imgs = ae_conv_encoder.predict(x_test)\n",
        "print(encoded_imgs.shape)"
      ]
    },
    {
      "cell_type": "code",
      "source": [
        "decoded_imgs = ae_conv_decoder.predict(encoded_imgs)\n",
        "deoceded_images = Ae_Conv.predict(x_test)\n",
        "print(\"Recreated image Representation of Shape {} Decoder and reduced image representation of shape {}\".format(decoded_imgs.shape,encoded_imgs.shape))\n",
        "n = 10\n",
        "k = 12\n",
        "plt.figure(figsize=(20,4))\n",
        "for i in range(n):\n",
        "  ax = plt.subplot(2,n,i+1)\n",
        "  plt.imshow(x_test[i*k].reshape(28,28))\n",
        "  plt.gray()\n",
        "  ax.get_xaxis().set_visible(False)\n",
        "  ax.get_yaxis().set_visible(False)\n",
        "\n",
        "  ax = plt.subplot(2,n,i+1+n)\n",
        "  plt.imshow(decoded_imgs[i*k].reshape(28,28))\n",
        "  plt.gray()\n",
        "  ax.get_xaxis().set_visible(False)\n",
        "  ax.get_yaxis().set_visible(False)\n",
        "plt.show()\n"
      ],
      "metadata": {
        "colab": {
          "base_uri": "https://localhost:8080/",
          "height": 264
        },
        "id": "Drdit8hEDUE8",
        "outputId": "8a3c1c71-3bfb-4f2a-f0a0-a7b7cab6b239"
      },
      "execution_count": 19,
      "outputs": [
        {
          "output_type": "stream",
          "name": "stdout",
          "text": [
            "313/313 [==============================] - 4s 13ms/step\n",
            "313/313 [==============================] - 5s 15ms/step\n",
            "Recreated image Representation of Shape (10000, 28, 28, 1) Decoder and reduced image representation of shape (10000, 64)\n"
          ]
        },
        {
          "output_type": "display_data",
          "data": {
            "text/plain": [
              "<Figure size 2000x400 with 20 Axes>"
            ],
            "image/png": "[encoded data removed]"
          },
          "metadata": {}
        }
      ]
    },
    {
      "cell_type": "code",
      "source": [
        "deoceded_images = Ae_Conv.predict(x_test)\n",
        "n = 10\n",
        "k = 12\n",
        "plt.figure(figsize=(20,4))\n",
        "for i in range(n):\n",
        "  ax = plt.subplot(2,n,i+1)\n",
        "  plt.imshow(x_test[i*k].reshape(28,28))\n",
        "  plt.gray()\n",
        "  ax.get_xaxis().set_visible(False)\n",
        "  ax.get_yaxis().set_visible(False)\n",
        "\n",
        "  ax = plt.subplot(2,n, i+1+n)\n",
        "  plt.imshow(deoceded_images[i*k].reshape(28,28))\n",
        "  plt.gray()\n",
        "  ax.get_xaxis().set_visible(False)\n",
        "  ax.get_yaxis().set_visible(False)\n",
        "\n",
        "plt.show()\n",
        "\n",
        "plt.show()"
      ],
      "metadata": {
        "colab": {
          "base_uri": "https://localhost:8080/",
          "height": 209
        },
        "id": "EaCirPu5FC0E",
        "outputId": "6f39938c-6139-4e4b-85e7-e033c6af03a6"
      },
      "execution_count": 20,
      "outputs": [
        {
          "output_type": "stream",
          "name": "stdout",
          "text": [
            "313/313 [==============================] - 7s 21ms/step\n"
          ]
        },
        {
          "output_type": "display_data",
          "data": {
            "text/plain": [
              "<Figure size 2000x400 with 20 Axes>"
            ],
            "image/png": "[encoded data removed]"
          },
          "metadata": {}
        }
      ]
    }
  ],
  "metadata": {
    "colab": {
      "provenance": [],
      "include_colab_link": true
    },
    "kernelspec": {
      "display_name": "Python 3",
      "name": "python3"
    },
    "language_info": {
      "name": "python"
    }
  },
  "nbformat": 4,
  "nbformat_minor": 0
}